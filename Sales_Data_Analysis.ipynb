{
  "nbformat": 4,
  "nbformat_minor": 0,
  "metadata": {
    "colab": {
      "name": "Sales Data Analysis.ipynb",
      "provenance": [],
      "collapsed_sections": []
    },
    "kernelspec": {
      "display_name": "Python 3",
      "name": "python3"
    },
    "language_info": {
      "name": "python"
    }
  },
  "cells": [
    {
      "cell_type": "code",
      "metadata": {
        "colab": {
          "base_uri": "https://localhost:8080/"
        },
        "id": "DNWt4I8_pGPF",
        "outputId": "a68b38f8-990f-46c1-b926-8162bf8d2945"
      },
      "source": [
        "from google.colab import drive\n",
        "drive.mount('/content/drive')"
      ],
      "execution_count": 156,
      "outputs": [
        {
          "output_type": "stream",
          "name": "stdout",
          "text": [
            "Drive already mounted at /content/drive; to attempt to forcibly remount, call drive.mount(\"/content/drive\", force_remount=True).\n"
          ]
        }
      ]
    },
    {
      "cell_type": "code",
      "metadata": {
        "id": "HVz2Tc9Gw6z9"
      },
      "source": [
        "import pandas as pd\n",
        "import numpy as np\n",
        "import matplotlib.pyplot as plt\n",
        "import datetime as dt\n",
        "import seaborn as sns\n",
        "import os"
      ],
      "execution_count": 157,
      "outputs": []
    },
    {
      "cell_type": "markdown",
      "metadata": {
        "id": "mbFqbPPJwfm5"
      },
      "source": [
        "### **Data Processing**"
      ]
    },
    {
      "cell_type": "markdown",
      "metadata": {
        "id": "ETOwm2HfxNeG"
      },
      "source": [
        "#### Merge Datasets"
      ]
    },
    {
      "cell_type": "code",
      "metadata": {
        "id": "sNItlPfHxPbw"
      },
      "source": [
        "path = \"/content/drive/MyDrive/Data Science/Data Sets/Sales Data Analysis/\"\n",
        "\n",
        "files = [file for file in os.listdir(path)]\n",
        "\n",
        "all_sales_data = pd.DataFrame()\n",
        "\n",
        "for file in files:\n",
        "  df = pd.read_csv(path+file)\n",
        "  all_sales_data = pd.concat([all_sales_data, df])\n",
        "\n",
        "all_sales_data.to_csv(\"all_sales_data.csv\", index= False)"
      ],
      "execution_count": 158,
      "outputs": []
    },
    {
      "cell_type": "markdown",
      "metadata": {
        "id": "OkAiJr4AwSwr"
      },
      "source": [
        "#### Import Data"
      ]
    },
    {
      "cell_type": "code",
      "metadata": {
        "id": "Bc2Se7trwesB",
        "colab": {
          "base_uri": "https://localhost:8080/",
          "height": 206
        },
        "outputId": "a7bd33f8-02e8-41f8-c8fd-22cd0f78a177"
      },
      "source": [
        "sales_df = pd.read_csv(\"all_sales_data.csv\")\n",
        "sales_df.head()"
      ],
      "execution_count": 159,
      "outputs": [
        {
          "output_type": "execute_result",
          "data": {
            "text/html": [
              "<div>\n",
              "<style scoped>\n",
              "    .dataframe tbody tr th:only-of-type {\n",
              "        vertical-align: middle;\n",
              "    }\n",
              "\n",
              "    .dataframe tbody tr th {\n",
              "        vertical-align: top;\n",
              "    }\n",
              "\n",
              "    .dataframe thead th {\n",
              "        text-align: right;\n",
              "    }\n",
              "</style>\n",
              "<table border=\"1\" class=\"dataframe\">\n",
              "  <thead>\n",
              "    <tr style=\"text-align: right;\">\n",
              "      <th></th>\n",
              "      <th>Order ID</th>\n",
              "      <th>Product</th>\n",
              "      <th>Quantity Ordered</th>\n",
              "      <th>Price Each</th>\n",
              "      <th>Order Date</th>\n",
              "      <th>Purchase Address</th>\n",
              "    </tr>\n",
              "  </thead>\n",
              "  <tbody>\n",
              "    <tr>\n",
              "      <th>0</th>\n",
              "      <td>176558</td>\n",
              "      <td>USB-C Charging Cable</td>\n",
              "      <td>2</td>\n",
              "      <td>11.95</td>\n",
              "      <td>04/19/19 08:46</td>\n",
              "      <td>917 1st St, Dallas, TX 75001</td>\n",
              "    </tr>\n",
              "    <tr>\n",
              "      <th>1</th>\n",
              "      <td>NaN</td>\n",
              "      <td>NaN</td>\n",
              "      <td>NaN</td>\n",
              "      <td>NaN</td>\n",
              "      <td>NaN</td>\n",
              "      <td>NaN</td>\n",
              "    </tr>\n",
              "    <tr>\n",
              "      <th>2</th>\n",
              "      <td>176559</td>\n",
              "      <td>Bose SoundSport Headphones</td>\n",
              "      <td>1</td>\n",
              "      <td>99.99</td>\n",
              "      <td>04/07/19 22:30</td>\n",
              "      <td>682 Chestnut St, Boston, MA 02215</td>\n",
              "    </tr>\n",
              "    <tr>\n",
              "      <th>3</th>\n",
              "      <td>176560</td>\n",
              "      <td>Google Phone</td>\n",
              "      <td>1</td>\n",
              "      <td>600</td>\n",
              "      <td>04/12/19 14:38</td>\n",
              "      <td>669 Spruce St, Los Angeles, CA 90001</td>\n",
              "    </tr>\n",
              "    <tr>\n",
              "      <th>4</th>\n",
              "      <td>176560</td>\n",
              "      <td>Wired Headphones</td>\n",
              "      <td>1</td>\n",
              "      <td>11.99</td>\n",
              "      <td>04/12/19 14:38</td>\n",
              "      <td>669 Spruce St, Los Angeles, CA 90001</td>\n",
              "    </tr>\n",
              "  </tbody>\n",
              "</table>\n",
              "</div>"
            ],
            "text/plain": [
              "  Order ID  ...                      Purchase Address\n",
              "0   176558  ...          917 1st St, Dallas, TX 75001\n",
              "1      NaN  ...                                   NaN\n",
              "2   176559  ...     682 Chestnut St, Boston, MA 02215\n",
              "3   176560  ...  669 Spruce St, Los Angeles, CA 90001\n",
              "4   176560  ...  669 Spruce St, Los Angeles, CA 90001\n",
              "\n",
              "[5 rows x 6 columns]"
            ]
          },
          "metadata": {},
          "execution_count": 159
        }
      ]
    },
    {
      "cell_type": "markdown",
      "metadata": {
        "id": "goG01agK4_eb"
      },
      "source": [
        "### **Data Cleaning**"
      ]
    },
    {
      "cell_type": "markdown",
      "metadata": {
        "id": "WmrMh9ezKOQ4"
      },
      "source": [
        "#### Drop NAN rows"
      ]
    },
    {
      "cell_type": "code",
      "metadata": {
        "id": "VqoKenIR566h",
        "colab": {
          "base_uri": "https://localhost:8080/",
          "height": 206
        },
        "outputId": "e04a0dd1-abbe-4912-f27e-fceb515e22da"
      },
      "source": [
        "# Check for NAN rows\n",
        "nan_df = sales_df[sales_df.isna().any(axis=1)]\n",
        "# nan_df.head()\n",
        "\n",
        "#Drop NAN rows\n",
        "sales_df = sales_df.dropna(how='all')\n",
        "sales_df.head()"
      ],
      "execution_count": 160,
      "outputs": [
        {
          "output_type": "execute_result",
          "data": {
            "text/html": [
              "<div>\n",
              "<style scoped>\n",
              "    .dataframe tbody tr th:only-of-type {\n",
              "        vertical-align: middle;\n",
              "    }\n",
              "\n",
              "    .dataframe tbody tr th {\n",
              "        vertical-align: top;\n",
              "    }\n",
              "\n",
              "    .dataframe thead th {\n",
              "        text-align: right;\n",
              "    }\n",
              "</style>\n",
              "<table border=\"1\" class=\"dataframe\">\n",
              "  <thead>\n",
              "    <tr style=\"text-align: right;\">\n",
              "      <th></th>\n",
              "      <th>Order ID</th>\n",
              "      <th>Product</th>\n",
              "      <th>Quantity Ordered</th>\n",
              "      <th>Price Each</th>\n",
              "      <th>Order Date</th>\n",
              "      <th>Purchase Address</th>\n",
              "    </tr>\n",
              "  </thead>\n",
              "  <tbody>\n",
              "    <tr>\n",
              "      <th>0</th>\n",
              "      <td>176558</td>\n",
              "      <td>USB-C Charging Cable</td>\n",
              "      <td>2</td>\n",
              "      <td>11.95</td>\n",
              "      <td>04/19/19 08:46</td>\n",
              "      <td>917 1st St, Dallas, TX 75001</td>\n",
              "    </tr>\n",
              "    <tr>\n",
              "      <th>2</th>\n",
              "      <td>176559</td>\n",
              "      <td>Bose SoundSport Headphones</td>\n",
              "      <td>1</td>\n",
              "      <td>99.99</td>\n",
              "      <td>04/07/19 22:30</td>\n",
              "      <td>682 Chestnut St, Boston, MA 02215</td>\n",
              "    </tr>\n",
              "    <tr>\n",
              "      <th>3</th>\n",
              "      <td>176560</td>\n",
              "      <td>Google Phone</td>\n",
              "      <td>1</td>\n",
              "      <td>600</td>\n",
              "      <td>04/12/19 14:38</td>\n",
              "      <td>669 Spruce St, Los Angeles, CA 90001</td>\n",
              "    </tr>\n",
              "    <tr>\n",
              "      <th>4</th>\n",
              "      <td>176560</td>\n",
              "      <td>Wired Headphones</td>\n",
              "      <td>1</td>\n",
              "      <td>11.99</td>\n",
              "      <td>04/12/19 14:38</td>\n",
              "      <td>669 Spruce St, Los Angeles, CA 90001</td>\n",
              "    </tr>\n",
              "    <tr>\n",
              "      <th>5</th>\n",
              "      <td>176561</td>\n",
              "      <td>Wired Headphones</td>\n",
              "      <td>1</td>\n",
              "      <td>11.99</td>\n",
              "      <td>04/30/19 09:27</td>\n",
              "      <td>333 8th St, Los Angeles, CA 90001</td>\n",
              "    </tr>\n",
              "  </tbody>\n",
              "</table>\n",
              "</div>"
            ],
            "text/plain": [
              "  Order ID  ...                      Purchase Address\n",
              "0   176558  ...          917 1st St, Dallas, TX 75001\n",
              "2   176559  ...     682 Chestnut St, Boston, MA 02215\n",
              "3   176560  ...  669 Spruce St, Los Angeles, CA 90001\n",
              "4   176560  ...  669 Spruce St, Los Angeles, CA 90001\n",
              "5   176561  ...     333 8th St, Los Angeles, CA 90001\n",
              "\n",
              "[5 rows x 6 columns]"
            ]
          },
          "metadata": {},
          "execution_count": 160
        }
      ]
    },
    {
      "cell_type": "markdown",
      "metadata": {
        "id": "AZsf7JViM7ha"
      },
      "source": [
        "#### Drop Inconsistent Rows"
      ]
    },
    {
      "cell_type": "code",
      "metadata": {
        "id": "qU7JZxY2GzG9",
        "colab": {
          "base_uri": "https://localhost:8080/",
          "height": 423
        },
        "outputId": "e355b2c2-7736-4a9b-fb34-b288721f897e"
      },
      "source": [
        "# Display rows where Order ID contains non-numeric values\n",
        "sales_df.loc[(sales_df['Order ID'].str.isdigit() == False), :]"
      ],
      "execution_count": 161,
      "outputs": [
        {
          "output_type": "execute_result",
          "data": {
            "text/html": [
              "<div>\n",
              "<style scoped>\n",
              "    .dataframe tbody tr th:only-of-type {\n",
              "        vertical-align: middle;\n",
              "    }\n",
              "\n",
              "    .dataframe tbody tr th {\n",
              "        vertical-align: top;\n",
              "    }\n",
              "\n",
              "    .dataframe thead th {\n",
              "        text-align: right;\n",
              "    }\n",
              "</style>\n",
              "<table border=\"1\" class=\"dataframe\">\n",
              "  <thead>\n",
              "    <tr style=\"text-align: right;\">\n",
              "      <th></th>\n",
              "      <th>Order ID</th>\n",
              "      <th>Product</th>\n",
              "      <th>Quantity Ordered</th>\n",
              "      <th>Price Each</th>\n",
              "      <th>Order Date</th>\n",
              "      <th>Purchase Address</th>\n",
              "    </tr>\n",
              "  </thead>\n",
              "  <tbody>\n",
              "    <tr>\n",
              "      <th>519</th>\n",
              "      <td>Order ID</td>\n",
              "      <td>Product</td>\n",
              "      <td>Quantity Ordered</td>\n",
              "      <td>Price Each</td>\n",
              "      <td>Order Date</td>\n",
              "      <td>Purchase Address</td>\n",
              "    </tr>\n",
              "    <tr>\n",
              "      <th>1149</th>\n",
              "      <td>Order ID</td>\n",
              "      <td>Product</td>\n",
              "      <td>Quantity Ordered</td>\n",
              "      <td>Price Each</td>\n",
              "      <td>Order Date</td>\n",
              "      <td>Purchase Address</td>\n",
              "    </tr>\n",
              "    <tr>\n",
              "      <th>1155</th>\n",
              "      <td>Order ID</td>\n",
              "      <td>Product</td>\n",
              "      <td>Quantity Ordered</td>\n",
              "      <td>Price Each</td>\n",
              "      <td>Order Date</td>\n",
              "      <td>Purchase Address</td>\n",
              "    </tr>\n",
              "    <tr>\n",
              "      <th>2878</th>\n",
              "      <td>Order ID</td>\n",
              "      <td>Product</td>\n",
              "      <td>Quantity Ordered</td>\n",
              "      <td>Price Each</td>\n",
              "      <td>Order Date</td>\n",
              "      <td>Purchase Address</td>\n",
              "    </tr>\n",
              "    <tr>\n",
              "      <th>2893</th>\n",
              "      <td>Order ID</td>\n",
              "      <td>Product</td>\n",
              "      <td>Quantity Ordered</td>\n",
              "      <td>Price Each</td>\n",
              "      <td>Order Date</td>\n",
              "      <td>Purchase Address</td>\n",
              "    </tr>\n",
              "    <tr>\n",
              "      <th>...</th>\n",
              "      <td>...</td>\n",
              "      <td>...</td>\n",
              "      <td>...</td>\n",
              "      <td>...</td>\n",
              "      <td>...</td>\n",
              "      <td>...</td>\n",
              "    </tr>\n",
              "    <tr>\n",
              "      <th>182788</th>\n",
              "      <td>Order ID</td>\n",
              "      <td>Product</td>\n",
              "      <td>Quantity Ordered</td>\n",
              "      <td>Price Each</td>\n",
              "      <td>Order Date</td>\n",
              "      <td>Purchase Address</td>\n",
              "    </tr>\n",
              "    <tr>\n",
              "      <th>184468</th>\n",
              "      <td>Order ID</td>\n",
              "      <td>Product</td>\n",
              "      <td>Quantity Ordered</td>\n",
              "      <td>Price Each</td>\n",
              "      <td>Order Date</td>\n",
              "      <td>Purchase Address</td>\n",
              "    </tr>\n",
              "    <tr>\n",
              "      <th>184516</th>\n",
              "      <td>Order ID</td>\n",
              "      <td>Product</td>\n",
              "      <td>Quantity Ordered</td>\n",
              "      <td>Price Each</td>\n",
              "      <td>Order Date</td>\n",
              "      <td>Purchase Address</td>\n",
              "    </tr>\n",
              "    <tr>\n",
              "      <th>185160</th>\n",
              "      <td>Order ID</td>\n",
              "      <td>Product</td>\n",
              "      <td>Quantity Ordered</td>\n",
              "      <td>Price Each</td>\n",
              "      <td>Order Date</td>\n",
              "      <td>Purchase Address</td>\n",
              "    </tr>\n",
              "    <tr>\n",
              "      <th>186387</th>\n",
              "      <td>Order ID</td>\n",
              "      <td>Product</td>\n",
              "      <td>Quantity Ordered</td>\n",
              "      <td>Price Each</td>\n",
              "      <td>Order Date</td>\n",
              "      <td>Purchase Address</td>\n",
              "    </tr>\n",
              "  </tbody>\n",
              "</table>\n",
              "<p>355 rows × 6 columns</p>\n",
              "</div>"
            ],
            "text/plain": [
              "        Order ID  Product  ...  Order Date  Purchase Address\n",
              "519     Order ID  Product  ...  Order Date  Purchase Address\n",
              "1149    Order ID  Product  ...  Order Date  Purchase Address\n",
              "1155    Order ID  Product  ...  Order Date  Purchase Address\n",
              "2878    Order ID  Product  ...  Order Date  Purchase Address\n",
              "2893    Order ID  Product  ...  Order Date  Purchase Address\n",
              "...          ...      ...  ...         ...               ...\n",
              "182788  Order ID  Product  ...  Order Date  Purchase Address\n",
              "184468  Order ID  Product  ...  Order Date  Purchase Address\n",
              "184516  Order ID  Product  ...  Order Date  Purchase Address\n",
              "185160  Order ID  Product  ...  Order Date  Purchase Address\n",
              "186387  Order ID  Product  ...  Order Date  Purchase Address\n",
              "\n",
              "[355 rows x 6 columns]"
            ]
          },
          "metadata": {},
          "execution_count": 161
        }
      ]
    },
    {
      "cell_type": "code",
      "metadata": {
        "colab": {
          "base_uri": "https://localhost:8080/",
          "height": 423
        },
        "id": "IdDUNa8MZFCN",
        "outputId": "4793b4d2-3191-46ec-f1d0-99e611f3f6c9"
      },
      "source": [
        "# Display rows where first index of 'Order Date' is not '0' or '1'\n",
        "sales_df[(sales_df['Order Date'].str[0] != '0') & (sales_df['Order Date'].str[0] != '1')]"
      ],
      "execution_count": 162,
      "outputs": [
        {
          "output_type": "execute_result",
          "data": {
            "text/html": [
              "<div>\n",
              "<style scoped>\n",
              "    .dataframe tbody tr th:only-of-type {\n",
              "        vertical-align: middle;\n",
              "    }\n",
              "\n",
              "    .dataframe tbody tr th {\n",
              "        vertical-align: top;\n",
              "    }\n",
              "\n",
              "    .dataframe thead th {\n",
              "        text-align: right;\n",
              "    }\n",
              "</style>\n",
              "<table border=\"1\" class=\"dataframe\">\n",
              "  <thead>\n",
              "    <tr style=\"text-align: right;\">\n",
              "      <th></th>\n",
              "      <th>Order ID</th>\n",
              "      <th>Product</th>\n",
              "      <th>Quantity Ordered</th>\n",
              "      <th>Price Each</th>\n",
              "      <th>Order Date</th>\n",
              "      <th>Purchase Address</th>\n",
              "    </tr>\n",
              "  </thead>\n",
              "  <tbody>\n",
              "    <tr>\n",
              "      <th>519</th>\n",
              "      <td>Order ID</td>\n",
              "      <td>Product</td>\n",
              "      <td>Quantity Ordered</td>\n",
              "      <td>Price Each</td>\n",
              "      <td>Order Date</td>\n",
              "      <td>Purchase Address</td>\n",
              "    </tr>\n",
              "    <tr>\n",
              "      <th>1149</th>\n",
              "      <td>Order ID</td>\n",
              "      <td>Product</td>\n",
              "      <td>Quantity Ordered</td>\n",
              "      <td>Price Each</td>\n",
              "      <td>Order Date</td>\n",
              "      <td>Purchase Address</td>\n",
              "    </tr>\n",
              "    <tr>\n",
              "      <th>1155</th>\n",
              "      <td>Order ID</td>\n",
              "      <td>Product</td>\n",
              "      <td>Quantity Ordered</td>\n",
              "      <td>Price Each</td>\n",
              "      <td>Order Date</td>\n",
              "      <td>Purchase Address</td>\n",
              "    </tr>\n",
              "    <tr>\n",
              "      <th>2878</th>\n",
              "      <td>Order ID</td>\n",
              "      <td>Product</td>\n",
              "      <td>Quantity Ordered</td>\n",
              "      <td>Price Each</td>\n",
              "      <td>Order Date</td>\n",
              "      <td>Purchase Address</td>\n",
              "    </tr>\n",
              "    <tr>\n",
              "      <th>2893</th>\n",
              "      <td>Order ID</td>\n",
              "      <td>Product</td>\n",
              "      <td>Quantity Ordered</td>\n",
              "      <td>Price Each</td>\n",
              "      <td>Order Date</td>\n",
              "      <td>Purchase Address</td>\n",
              "    </tr>\n",
              "    <tr>\n",
              "      <th>...</th>\n",
              "      <td>...</td>\n",
              "      <td>...</td>\n",
              "      <td>...</td>\n",
              "      <td>...</td>\n",
              "      <td>...</td>\n",
              "      <td>...</td>\n",
              "    </tr>\n",
              "    <tr>\n",
              "      <th>182788</th>\n",
              "      <td>Order ID</td>\n",
              "      <td>Product</td>\n",
              "      <td>Quantity Ordered</td>\n",
              "      <td>Price Each</td>\n",
              "      <td>Order Date</td>\n",
              "      <td>Purchase Address</td>\n",
              "    </tr>\n",
              "    <tr>\n",
              "      <th>184468</th>\n",
              "      <td>Order ID</td>\n",
              "      <td>Product</td>\n",
              "      <td>Quantity Ordered</td>\n",
              "      <td>Price Each</td>\n",
              "      <td>Order Date</td>\n",
              "      <td>Purchase Address</td>\n",
              "    </tr>\n",
              "    <tr>\n",
              "      <th>184516</th>\n",
              "      <td>Order ID</td>\n",
              "      <td>Product</td>\n",
              "      <td>Quantity Ordered</td>\n",
              "      <td>Price Each</td>\n",
              "      <td>Order Date</td>\n",
              "      <td>Purchase Address</td>\n",
              "    </tr>\n",
              "    <tr>\n",
              "      <th>185160</th>\n",
              "      <td>Order ID</td>\n",
              "      <td>Product</td>\n",
              "      <td>Quantity Ordered</td>\n",
              "      <td>Price Each</td>\n",
              "      <td>Order Date</td>\n",
              "      <td>Purchase Address</td>\n",
              "    </tr>\n",
              "    <tr>\n",
              "      <th>186387</th>\n",
              "      <td>Order ID</td>\n",
              "      <td>Product</td>\n",
              "      <td>Quantity Ordered</td>\n",
              "      <td>Price Each</td>\n",
              "      <td>Order Date</td>\n",
              "      <td>Purchase Address</td>\n",
              "    </tr>\n",
              "  </tbody>\n",
              "</table>\n",
              "<p>355 rows × 6 columns</p>\n",
              "</div>"
            ],
            "text/plain": [
              "        Order ID  Product  ...  Order Date  Purchase Address\n",
              "519     Order ID  Product  ...  Order Date  Purchase Address\n",
              "1149    Order ID  Product  ...  Order Date  Purchase Address\n",
              "1155    Order ID  Product  ...  Order Date  Purchase Address\n",
              "2878    Order ID  Product  ...  Order Date  Purchase Address\n",
              "2893    Order ID  Product  ...  Order Date  Purchase Address\n",
              "...          ...      ...  ...         ...               ...\n",
              "182788  Order ID  Product  ...  Order Date  Purchase Address\n",
              "184468  Order ID  Product  ...  Order Date  Purchase Address\n",
              "184516  Order ID  Product  ...  Order Date  Purchase Address\n",
              "185160  Order ID  Product  ...  Order Date  Purchase Address\n",
              "186387  Order ID  Product  ...  Order Date  Purchase Address\n",
              "\n",
              "[355 rows x 6 columns]"
            ]
          },
          "metadata": {},
          "execution_count": 162
        }
      ]
    },
    {
      "cell_type": "code",
      "metadata": {
        "id": "vPeRIUefQ5aV"
      },
      "source": [
        "# Drop rows\n",
        "filtered_sdf = sales_df.drop(sales_df[(sales_df['Order Date'].str[0] != '0') & (sales_df['Order Date'].str[0] != '1')].index)  "
      ],
      "execution_count": 163,
      "outputs": []
    },
    {
      "cell_type": "markdown",
      "metadata": {
        "id": "LLetqUbFalKg"
      },
      "source": [
        "#### Change Data Types"
      ]
    },
    {
      "cell_type": "code",
      "metadata": {
        "id": "TX0Qtk5yLYIJ"
      },
      "source": [
        "filtered_sdf['Order ID'] = pd.to_numeric(filtered_sdf['Order ID']) # make int\n",
        "filtered_sdf['Quantity Ordered'] = pd.to_numeric(filtered_sdf['Quantity Ordered'])\n",
        "filtered_sdf['Price Each'] = pd.to_numeric(filtered_sdf['Price Each']) # make float\n",
        "filtered_sdf['Order Date'] = pd.to_datetime(filtered_sdf['Order Date']) # make datetime\n"
      ],
      "execution_count": 164,
      "outputs": []
    },
    {
      "cell_type": "code",
      "metadata": {
        "id": "LPDPim45c6nZ",
        "colab": {
          "base_uri": "https://localhost:8080/"
        },
        "outputId": "a302f2fd-8dbf-4fab-c2ba-64f5060d2e89"
      },
      "source": [
        "filtered_sdf.info()"
      ],
      "execution_count": 165,
      "outputs": [
        {
          "output_type": "stream",
          "name": "stdout",
          "text": [
            "<class 'pandas.core.frame.DataFrame'>\n",
            "Int64Index: 185950 entries, 0 to 186849\n",
            "Data columns (total 6 columns):\n",
            " #   Column            Non-Null Count   Dtype         \n",
            "---  ------            --------------   -----         \n",
            " 0   Order ID          185950 non-null  int64         \n",
            " 1   Product           185950 non-null  object        \n",
            " 2   Quantity Ordered  185950 non-null  int64         \n",
            " 3   Price Each        185950 non-null  float64       \n",
            " 4   Order Date        185950 non-null  datetime64[ns]\n",
            " 5   Purchase Address  185950 non-null  object        \n",
            "dtypes: datetime64[ns](1), float64(1), int64(2), object(2)\n",
            "memory usage: 9.9+ MB\n"
          ]
        }
      ]
    },
    {
      "cell_type": "markdown",
      "metadata": {
        "id": "cunzeveU527Z"
      },
      "source": [
        "### **Data Transformation**"
      ]
    },
    {
      "cell_type": "markdown",
      "metadata": {
        "id": "CLdXDfPi5HIt"
      },
      "source": [
        "#### Add Month Column"
      ]
    },
    {
      "cell_type": "code",
      "metadata": {
        "id": "UOWDFtPQ3VDn"
      },
      "source": [
        "filtered_sdf['Month'] = filtered_sdf['Order Date'].dt.month"
      ],
      "execution_count": 166,
      "outputs": []
    },
    {
      "cell_type": "markdown",
      "metadata": {
        "id": "M0VYKlYZKobf"
      },
      "source": [
        "#### Add Year Column"
      ]
    },
    {
      "cell_type": "code",
      "metadata": {
        "id": "y2gd6zn4KJcN"
      },
      "source": [
        "filtered_sdf['Year'] = filtered_sdf['Order Date'].dt.year"
      ],
      "execution_count": 167,
      "outputs": []
    },
    {
      "cell_type": "markdown",
      "metadata": {
        "id": "abUDGJPzE7P4"
      },
      "source": [
        "#### Add Year/Month Column"
      ]
    },
    {
      "cell_type": "code",
      "metadata": {
        "id": "mCLGmY1sE5jA"
      },
      "source": [
        "filtered_sdf['Year/Month'] = filtered_sdf['Order Date'].dt.strftime('%Y-%m')"
      ],
      "execution_count": 168,
      "outputs": []
    },
    {
      "cell_type": "markdown",
      "metadata": {
        "id": "uabiHhZIbXlZ"
      },
      "source": [
        "#### Add Quarter Column"
      ]
    },
    {
      "cell_type": "code",
      "metadata": {
        "id": "g-YDsi_WbUqL"
      },
      "source": [
        "filtered_sdf['Quarter'] = filtered_sdf['Order Date'].dt.quarter"
      ],
      "execution_count": 169,
      "outputs": []
    },
    {
      "cell_type": "markdown",
      "metadata": {
        "id": "CDcsab0zoOP0"
      },
      "source": [
        "#### Add Weekday Column"
      ]
    },
    {
      "cell_type": "code",
      "metadata": {
        "id": "WUXSg8WioS2v"
      },
      "source": [
        "# Return day of the week as an integer, where Monday is 0 and Sunday is 6\n",
        "\n",
        "filtered_sdf['Weekday'] = filtered_sdf['Order Date'].dt.weekday"
      ],
      "execution_count": 170,
      "outputs": []
    },
    {
      "cell_type": "markdown",
      "metadata": {
        "id": "nEBUmBD-j70N"
      },
      "source": [
        "#### Add Hour Column"
      ]
    },
    {
      "cell_type": "code",
      "metadata": {
        "id": "Bte2UbffkBKQ"
      },
      "source": [
        "filtered_sdf['Hour'] = filtered_sdf['Order Date'].dt.hour"
      ],
      "execution_count": 171,
      "outputs": []
    },
    {
      "cell_type": "markdown",
      "metadata": {
        "id": "RNUCu2rFK0G3"
      },
      "source": [
        "#### Add Sales Column"
      ]
    },
    {
      "cell_type": "code",
      "metadata": {
        "id": "0JC6CoXrKyAt"
      },
      "source": [
        "filtered_sdf['Sales'] = filtered_sdf['Quantity Ordered'] * filtered_sdf['Price Each']"
      ],
      "execution_count": 172,
      "outputs": []
    },
    {
      "cell_type": "markdown",
      "metadata": {
        "id": "wi2No5LpgFOD"
      },
      "source": [
        "#### Add City Column"
      ]
    },
    {
      "cell_type": "code",
      "metadata": {
        "id": "65ERtDhrgHs8"
      },
      "source": [
        "# .apply()\n",
        "def get_city(address):\n",
        "  return address.split(',')[1]\n",
        "\n",
        "# .apply()\n",
        "def get_state(address):\n",
        "  return address.split(',')[2].split(' ')[1]\n",
        "\n",
        "filtered_sdf['City'] = filtered_sdf['Purchase Address'].apply(lambda x: get_city(x) + ' (' + get_state(x) + ')')"
      ],
      "execution_count": 173,
      "outputs": []
    },
    {
      "cell_type": "markdown",
      "metadata": {
        "id": "0e73Ae5_lqUw"
      },
      "source": [
        "#### Add State Column"
      ]
    },
    {
      "cell_type": "code",
      "metadata": {
        "id": "f18uH060luO8"
      },
      "source": [
        "# .apply()\n",
        "def get_state(address):\n",
        "  return address.split(',')[2].split(' ')[1]\n",
        "\n",
        "filtered_sdf['State'] = filtered_sdf['Purchase Address'].apply(lambda x: get_state(x))"
      ],
      "execution_count": 174,
      "outputs": []
    },
    {
      "cell_type": "markdown",
      "metadata": {
        "id": "Qh_TE1A4qKCx"
      },
      "source": [
        "### Filtered Data"
      ]
    },
    {
      "cell_type": "code",
      "metadata": {
        "id": "9ectdz5tdOhy",
        "colab": {
          "base_uri": "https://localhost:8080/",
          "height": 362
        },
        "outputId": "f5c86b8e-edc5-4864-ec6e-e26d0c1f63c9"
      },
      "source": [
        "filtered_sdf.head()"
      ],
      "execution_count": 175,
      "outputs": [
        {
          "output_type": "execute_result",
          "data": {
            "text/html": [
              "<div>\n",
              "<style scoped>\n",
              "    .dataframe tbody tr th:only-of-type {\n",
              "        vertical-align: middle;\n",
              "    }\n",
              "\n",
              "    .dataframe tbody tr th {\n",
              "        vertical-align: top;\n",
              "    }\n",
              "\n",
              "    .dataframe thead th {\n",
              "        text-align: right;\n",
              "    }\n",
              "</style>\n",
              "<table border=\"1\" class=\"dataframe\">\n",
              "  <thead>\n",
              "    <tr style=\"text-align: right;\">\n",
              "      <th></th>\n",
              "      <th>Order ID</th>\n",
              "      <th>Product</th>\n",
              "      <th>Quantity Ordered</th>\n",
              "      <th>Price Each</th>\n",
              "      <th>Order Date</th>\n",
              "      <th>Purchase Address</th>\n",
              "      <th>Month</th>\n",
              "      <th>Year</th>\n",
              "      <th>Year/Month</th>\n",
              "      <th>Quarter</th>\n",
              "      <th>Weekday</th>\n",
              "      <th>Hour</th>\n",
              "      <th>Sales</th>\n",
              "      <th>City</th>\n",
              "      <th>State</th>\n",
              "    </tr>\n",
              "  </thead>\n",
              "  <tbody>\n",
              "    <tr>\n",
              "      <th>0</th>\n",
              "      <td>176558</td>\n",
              "      <td>USB-C Charging Cable</td>\n",
              "      <td>2</td>\n",
              "      <td>11.95</td>\n",
              "      <td>2019-04-19 08:46:00</td>\n",
              "      <td>917 1st St, Dallas, TX 75001</td>\n",
              "      <td>4</td>\n",
              "      <td>2019</td>\n",
              "      <td>2019-04</td>\n",
              "      <td>2</td>\n",
              "      <td>4</td>\n",
              "      <td>8</td>\n",
              "      <td>23.90</td>\n",
              "      <td>Dallas (TX)</td>\n",
              "      <td>TX</td>\n",
              "    </tr>\n",
              "    <tr>\n",
              "      <th>2</th>\n",
              "      <td>176559</td>\n",
              "      <td>Bose SoundSport Headphones</td>\n",
              "      <td>1</td>\n",
              "      <td>99.99</td>\n",
              "      <td>2019-04-07 22:30:00</td>\n",
              "      <td>682 Chestnut St, Boston, MA 02215</td>\n",
              "      <td>4</td>\n",
              "      <td>2019</td>\n",
              "      <td>2019-04</td>\n",
              "      <td>2</td>\n",
              "      <td>6</td>\n",
              "      <td>22</td>\n",
              "      <td>99.99</td>\n",
              "      <td>Boston (MA)</td>\n",
              "      <td>MA</td>\n",
              "    </tr>\n",
              "    <tr>\n",
              "      <th>3</th>\n",
              "      <td>176560</td>\n",
              "      <td>Google Phone</td>\n",
              "      <td>1</td>\n",
              "      <td>600.00</td>\n",
              "      <td>2019-04-12 14:38:00</td>\n",
              "      <td>669 Spruce St, Los Angeles, CA 90001</td>\n",
              "      <td>4</td>\n",
              "      <td>2019</td>\n",
              "      <td>2019-04</td>\n",
              "      <td>2</td>\n",
              "      <td>4</td>\n",
              "      <td>14</td>\n",
              "      <td>600.00</td>\n",
              "      <td>Los Angeles (CA)</td>\n",
              "      <td>CA</td>\n",
              "    </tr>\n",
              "    <tr>\n",
              "      <th>4</th>\n",
              "      <td>176560</td>\n",
              "      <td>Wired Headphones</td>\n",
              "      <td>1</td>\n",
              "      <td>11.99</td>\n",
              "      <td>2019-04-12 14:38:00</td>\n",
              "      <td>669 Spruce St, Los Angeles, CA 90001</td>\n",
              "      <td>4</td>\n",
              "      <td>2019</td>\n",
              "      <td>2019-04</td>\n",
              "      <td>2</td>\n",
              "      <td>4</td>\n",
              "      <td>14</td>\n",
              "      <td>11.99</td>\n",
              "      <td>Los Angeles (CA)</td>\n",
              "      <td>CA</td>\n",
              "    </tr>\n",
              "    <tr>\n",
              "      <th>5</th>\n",
              "      <td>176561</td>\n",
              "      <td>Wired Headphones</td>\n",
              "      <td>1</td>\n",
              "      <td>11.99</td>\n",
              "      <td>2019-04-30 09:27:00</td>\n",
              "      <td>333 8th St, Los Angeles, CA 90001</td>\n",
              "      <td>4</td>\n",
              "      <td>2019</td>\n",
              "      <td>2019-04</td>\n",
              "      <td>2</td>\n",
              "      <td>1</td>\n",
              "      <td>9</td>\n",
              "      <td>11.99</td>\n",
              "      <td>Los Angeles (CA)</td>\n",
              "      <td>CA</td>\n",
              "    </tr>\n",
              "  </tbody>\n",
              "</table>\n",
              "</div>"
            ],
            "text/plain": [
              "   Order ID                     Product  ...               City  State\n",
              "0    176558        USB-C Charging Cable  ...        Dallas (TX)     TX\n",
              "2    176559  Bose SoundSport Headphones  ...        Boston (MA)     MA\n",
              "3    176560                Google Phone  ...   Los Angeles (CA)     CA\n",
              "4    176560            Wired Headphones  ...   Los Angeles (CA)     CA\n",
              "5    176561            Wired Headphones  ...   Los Angeles (CA)     CA\n",
              "\n",
              "[5 rows x 15 columns]"
            ]
          },
          "metadata": {},
          "execution_count": 175
        }
      ]
    },
    {
      "cell_type": "markdown",
      "metadata": {
        "id": "TQDGVUvQkWju"
      },
      "source": [
        "### **Data Analysis** (Business Questions)"
      ]
    },
    {
      "cell_type": "code",
      "metadata": {
        "id": "NPjgqrQoMbVa"
      },
      "source": [
        "pd.options.display.float_format = '{:.2f}'.format"
      ],
      "execution_count": 176,
      "outputs": []
    },
    {
      "cell_type": "markdown",
      "metadata": {
        "id": "hbb3pmp4EZh4"
      },
      "source": [
        "#### **Revenue Analysis**"
      ]
    },
    {
      "cell_type": "code",
      "metadata": {
        "id": "ZjfKdsDT115V"
      },
      "source": [
        "total_rev = filtered_sdf['Sales'].sum()"
      ],
      "execution_count": 177,
      "outputs": []
    },
    {
      "cell_type": "markdown",
      "metadata": {
        "id": "Fw99xVNNFODI"
      },
      "source": [
        "##### **Monthly Revenue**"
      ]
    },
    {
      "cell_type": "code",
      "metadata": {
        "colab": {
          "base_uri": "https://localhost:8080/",
          "height": 762
        },
        "id": "TZZ3qGWlI-AJ",
        "outputId": "e98a2d9b-bbbb-4b45-fbbe-2fdac851ee10"
      },
      "source": [
        "month_rev = filtered_sdf.groupby('Year/Month').sum()['Sales']\n",
        "m2m = month_rev.reset_index()\n",
        "months = [month for month, df in filtered_sdf.groupby('Year/Month')]\n",
        "\n",
        "plt.plot(months[:-1], month_rev[:-1], marker='o')\n",
        "plt.xticks(months[:-1], rotation=90)\n",
        "plt.xlabel('Month')\n",
        "plt.ylabel('Revenue in millions ($)')\n",
        "plt.grid(True)\n",
        "plt.show()\n",
        "\n",
        "m2m"
      ],
      "execution_count": 178,
      "outputs": [
        {
          "output_type": "display_data",
          "data": {
            "image/png": "[encoded data removed]",
            "text/plain": [
              "<Figure size 432x288 with 1 Axes>"
            ]
          },
          "metadata": {
            "needs_background": "light"
          }
        },
        {
          "output_type": "execute_result",
          "data": {
            "text/html": [
              "<div>\n",
              "<style scoped>\n",
              "    .dataframe tbody tr th:only-of-type {\n",
              "        vertical-align: middle;\n",
              "    }\n",
              "\n",
              "    .dataframe tbody tr th {\n",
              "        vertical-align: top;\n",
              "    }\n",
              "\n",
              "    .dataframe thead th {\n",
              "        text-align: right;\n",
              "    }\n",
              "</style>\n",
              "<table border=\"1\" class=\"dataframe\">\n",
              "  <thead>\n",
              "    <tr style=\"text-align: right;\">\n",
              "      <th></th>\n",
              "      <th>Year/Month</th>\n",
              "      <th>Sales</th>\n",
              "    </tr>\n",
              "  </thead>\n",
              "  <tbody>\n",
              "    <tr>\n",
              "      <th>0</th>\n",
              "      <td>2019-01</td>\n",
              "      <td>1813586.44</td>\n",
              "    </tr>\n",
              "    <tr>\n",
              "      <th>1</th>\n",
              "      <td>2019-02</td>\n",
              "      <td>2202022.42</td>\n",
              "    </tr>\n",
              "    <tr>\n",
              "      <th>2</th>\n",
              "      <td>2019-03</td>\n",
              "      <td>2807100.38</td>\n",
              "    </tr>\n",
              "    <tr>\n",
              "      <th>3</th>\n",
              "      <td>2019-04</td>\n",
              "      <td>3390670.24</td>\n",
              "    </tr>\n",
              "    <tr>\n",
              "      <th>4</th>\n",
              "      <td>2019-05</td>\n",
              "      <td>3152606.75</td>\n",
              "    </tr>\n",
              "    <tr>\n",
              "      <th>5</th>\n",
              "      <td>2019-06</td>\n",
              "      <td>2577802.26</td>\n",
              "    </tr>\n",
              "    <tr>\n",
              "      <th>6</th>\n",
              "      <td>2019-07</td>\n",
              "      <td>2647775.76</td>\n",
              "    </tr>\n",
              "    <tr>\n",
              "      <th>7</th>\n",
              "      <td>2019-08</td>\n",
              "      <td>2244467.88</td>\n",
              "    </tr>\n",
              "    <tr>\n",
              "      <th>8</th>\n",
              "      <td>2019-09</td>\n",
              "      <td>2097560.13</td>\n",
              "    </tr>\n",
              "    <tr>\n",
              "      <th>9</th>\n",
              "      <td>2019-10</td>\n",
              "      <td>3736726.88</td>\n",
              "    </tr>\n",
              "    <tr>\n",
              "      <th>10</th>\n",
              "      <td>2019-11</td>\n",
              "      <td>3199603.20</td>\n",
              "    </tr>\n",
              "    <tr>\n",
              "      <th>11</th>\n",
              "      <td>2019-12</td>\n",
              "      <td>4613443.34</td>\n",
              "    </tr>\n",
              "    <tr>\n",
              "      <th>12</th>\n",
              "      <td>2020-01</td>\n",
              "      <td>8670.29</td>\n",
              "    </tr>\n",
              "  </tbody>\n",
              "</table>\n",
              "</div>"
            ],
            "text/plain": [
              "   Year/Month      Sales\n",
              "0     2019-01 1813586.44\n",
              "1     2019-02 2202022.42\n",
              "2     2019-03 2807100.38\n",
              "3     2019-04 3390670.24\n",
              "4     2019-05 3152606.75\n",
              "5     2019-06 2577802.26\n",
              "6     2019-07 2647775.76\n",
              "7     2019-08 2244467.88\n",
              "8     2019-09 2097560.13\n",
              "9     2019-10 3736726.88\n",
              "10    2019-11 3199603.20\n",
              "11    2019-12 4613443.34\n",
              "12    2020-01    8670.29"
            ]
          },
          "metadata": {},
          "execution_count": 178
        }
      ]
    },
    {
      "cell_type": "markdown",
      "metadata": {
        "id": "_WhMKZrrOoFK"
      },
      "source": [
        "##### **Monthly Revenue Growth Rate**"
      ]
    },
    {
      "cell_type": "code",
      "metadata": {
        "colab": {
          "base_uri": "https://localhost:8080/",
          "height": 719
        },
        "id": "smLU_d9m86iI",
        "outputId": "cdb1b9d2-8487-4208-c2a9-8c2c9aaf9e27"
      },
      "source": [
        "m2m['MRG %'] = round((m2m['Sales'] - m2m['Sales'].shift(1))/m2m['Sales']*100, 2)\n",
        "mrg = m2m['MRG %'][:-1] # dropped last month since incomplete\n",
        "months = [month for month, df in filtered_sdf.groupby('Year/Month')]\n",
        "\n",
        "plt.plot(months[:-1], mrg, marker='o')\n",
        "plt.axhline(y=0, color='r', linestyle='-')\n",
        "plt.xticks(months, rotation=90)\n",
        "plt.xlabel('Month')\n",
        "plt.ylabel('Revenue Growth (%)')\n",
        "plt.grid(True)\n",
        "plt.show()\n",
        "\n",
        "m2m[:-1]"
      ],
      "execution_count": 179,
      "outputs": [
        {
          "output_type": "display_data",
          "data": {
            "image/png": "[encoded data removed]",
            "text/plain": [
              "<Figure size 432x288 with 1 Axes>"
            ]
          },
          "metadata": {
            "needs_background": "light"
          }
        },
        {
          "output_type": "execute_result",
          "data": {
            "text/html": [
              "<div>\n",
              "<style scoped>\n",
              "    .dataframe tbody tr th:only-of-type {\n",
              "        vertical-align: middle;\n",
              "    }\n",
              "\n",
              "    .dataframe tbody tr th {\n",
              "        vertical-align: top;\n",
              "    }\n",
              "\n",
              "    .dataframe thead th {\n",
              "        text-align: right;\n",
              "    }\n",
              "</style>\n",
              "<table border=\"1\" class=\"dataframe\">\n",
              "  <thead>\n",
              "    <tr style=\"text-align: right;\">\n",
              "      <th></th>\n",
              "      <th>Year/Month</th>\n",
              "      <th>Sales</th>\n",
              "      <th>MRG %</th>\n",
              "    </tr>\n",
              "  </thead>\n",
              "  <tbody>\n",
              "    <tr>\n",
              "      <th>0</th>\n",
              "      <td>2019-01</td>\n",
              "      <td>1813586.44</td>\n",
              "      <td>nan</td>\n",
              "    </tr>\n",
              "    <tr>\n",
              "      <th>1</th>\n",
              "      <td>2019-02</td>\n",
              "      <td>2202022.42</td>\n",
              "      <td>17.64</td>\n",
              "    </tr>\n",
              "    <tr>\n",
              "      <th>2</th>\n",
              "      <td>2019-03</td>\n",
              "      <td>2807100.38</td>\n",
              "      <td>21.56</td>\n",
              "    </tr>\n",
              "    <tr>\n",
              "      <th>3</th>\n",
              "      <td>2019-04</td>\n",
              "      <td>3390670.24</td>\n",
              "      <td>17.21</td>\n",
              "    </tr>\n",
              "    <tr>\n",
              "      <th>4</th>\n",
              "      <td>2019-05</td>\n",
              "      <td>3152606.75</td>\n",
              "      <td>-7.55</td>\n",
              "    </tr>\n",
              "    <tr>\n",
              "      <th>5</th>\n",
              "      <td>2019-06</td>\n",
              "      <td>2577802.26</td>\n",
              "      <td>-22.30</td>\n",
              "    </tr>\n",
              "    <tr>\n",
              "      <th>6</th>\n",
              "      <td>2019-07</td>\n",
              "      <td>2647775.76</td>\n",
              "      <td>2.64</td>\n",
              "    </tr>\n",
              "    <tr>\n",
              "      <th>7</th>\n",
              "      <td>2019-08</td>\n",
              "      <td>2244467.88</td>\n",
              "      <td>-17.97</td>\n",
              "    </tr>\n",
              "    <tr>\n",
              "      <th>8</th>\n",
              "      <td>2019-09</td>\n",
              "      <td>2097560.13</td>\n",
              "      <td>-7.00</td>\n",
              "    </tr>\n",
              "    <tr>\n",
              "      <th>9</th>\n",
              "      <td>2019-10</td>\n",
              "      <td>3736726.88</td>\n",
              "      <td>43.87</td>\n",
              "    </tr>\n",
              "    <tr>\n",
              "      <th>10</th>\n",
              "      <td>2019-11</td>\n",
              "      <td>3199603.20</td>\n",
              "      <td>-16.79</td>\n",
              "    </tr>\n",
              "    <tr>\n",
              "      <th>11</th>\n",
              "      <td>2019-12</td>\n",
              "      <td>4613443.34</td>\n",
              "      <td>30.65</td>\n",
              "    </tr>\n",
              "  </tbody>\n",
              "</table>\n",
              "</div>"
            ],
            "text/plain": [
              "   Year/Month      Sales  MRG %\n",
              "0     2019-01 1813586.44    nan\n",
              "1     2019-02 2202022.42  17.64\n",
              "2     2019-03 2807100.38  21.56\n",
              "3     2019-04 3390670.24  17.21\n",
              "4     2019-05 3152606.75  -7.55\n",
              "5     2019-06 2577802.26 -22.30\n",
              "6     2019-07 2647775.76   2.64\n",
              "7     2019-08 2244467.88 -17.97\n",
              "8     2019-09 2097560.13  -7.00\n",
              "9     2019-10 3736726.88  43.87\n",
              "10    2019-11 3199603.20 -16.79\n",
              "11    2019-12 4613443.34  30.65"
            ]
          },
          "metadata": {},
          "execution_count": 179
        }
      ]
    },
    {
      "cell_type": "markdown",
      "metadata": {
        "id": "Q4FNYJPtcRqO"
      },
      "source": [
        "##### **Which quarter had highest amount of revenue? How much?**"
      ]
    },
    {
      "cell_type": "code",
      "metadata": {
        "id": "mBfVY-bId0hW",
        "colab": {
          "base_uri": "https://localhost:8080/",
          "height": 342
        },
        "outputId": "f5128bd6-a9e4-40e2-901f-d16990344728"
      },
      "source": [
        "quarter_sales = filtered_sdf.groupby('Quarter').sum()\n",
        "quarters = range(1,5)\n",
        "\n",
        "plt.bar(quarters, quarter_sales['Sales'])\n",
        "plt.xticks(quarters)\n",
        "plt.xlabel('Quarter')\n",
        "plt.ylabel('Revenue in 10 millions ($)')\n",
        "plt.show()\n",
        "\n",
        "maxQ = max(quarter_sales['Sales'])\n",
        "bestQ =\"${:,.2f}\".format(maxQ)\n",
        "Q = quarter_sales[quarter_sales['Sales'] == maxQ].index.item()\n",
        "Qpercent = round(maxQ/total_rev*100, 2)\n",
        "print('Quarter ' + str(Q) + ' @ ' + bestQ +\n",
        "      '\\n\\n% of Total Revenue: ' +  str(Qpercent) + '%')"
      ],
      "execution_count": 180,
      "outputs": [
        {
          "output_type": "display_data",
          "data": {
            "image/png": "[encoded data removed]",
            "text/plain": [
              "<Figure size 432x288 with 1 Axes>"
            ]
          },
          "metadata": {
            "needs_background": "light"
          }
        },
        {
          "output_type": "stream",
          "name": "stdout",
          "text": [
            "Quarter 4 @ $11,549,773.42\n",
            "\n",
            "% of Total Revenue: 33.49%\n"
          ]
        }
      ]
    },
    {
      "cell_type": "markdown",
      "metadata": {
        "id": "Oq_T4934dTJU"
      },
      "source": [
        "##### **Which month had the highest amount of revenue? How much?**"
      ]
    },
    {
      "cell_type": "code",
      "metadata": {
        "colab": {
          "base_uri": "https://localhost:8080/",
          "height": 342
        },
        "id": "BKAgkwJ8mPha",
        "outputId": "ad772bbe-caef-4c86-a774-51c8014a40e5"
      },
      "source": [
        "month_sales = filtered_sdf.groupby('Month').sum()\n",
        "months = range(1,13)\n",
        "\n",
        "plt.bar(months, month_sales['Sales'])\n",
        "plt.xticks(months)\n",
        "plt.xlabel('Month')\n",
        "plt.ylabel('Revenue in millions ($)')\n",
        "plt.show()\n",
        "\n",
        "maxM_Sales = max(month_sales['Sales'])\n",
        "bestM_Sales =\"${:,.2f}\".format(maxM_Sales)\n",
        "MS = month_sales[month_sales['Sales'] == maxM_Sales].index.item()\n",
        "MSpercent = round(maxM_Sales/total_rev*100, 2)\n",
        "\n",
        "print('Month ' + str(MS) + ' @ ' + bestM_Sales +\n",
        "      '\\n\\n% of Total Revenue: ' +  str(MSpercent) + '%')"
      ],
      "execution_count": 181,
      "outputs": [
        {
          "output_type": "display_data",
          "data": {
            "image/png": "[encoded data removed]",
            "text/plain": [
              "<Figure size 432x288 with 1 Axes>"
            ]
          },
          "metadata": {
            "needs_background": "light"
          }
        },
        {
          "output_type": "stream",
          "name": "stdout",
          "text": [
            "Month 12 @ $4,613,443.34\n",
            "\n",
            "% of Total Revenue: 13.38%\n"
          ]
        }
      ]
    },
    {
      "cell_type": "markdown",
      "metadata": {
        "id": "YpTGfPccp8bk"
      },
      "source": [
        "##### **Which day of the week had the highest revenue?**"
      ]
    },
    {
      "cell_type": "code",
      "metadata": {
        "colab": {
          "base_uri": "https://localhost:8080/",
          "height": 380
        },
        "id": "sOOu3TzAp9kV",
        "outputId": "76e6ba98-2455-4de1-b22a-48d43269ad0c"
      },
      "source": [
        "dow_sales = filtered_sdf.groupby('Weekday').sum()\n",
        "dow = {0:'Monday', 1:'Tuesday', 2:'Wednesday', 3:'Thursday', 4:'Friday', 5:'Saturday', 6:'Sunday'}\n",
        "dow1 = list(dow.keys())\n",
        "dow2 = list(dow.values())\n",
        "\n",
        "plt.bar(dow1, dow_sales['Sales'])\n",
        "plt.ylim(min(dow_sales['Sales'])-50000, max(dow_sales['Sales'])+50000)\n",
        "plt.xticks(ticks=dow1, labels=dow2, rotation= 45)\n",
        "plt.xlabel('Day Of Week')\n",
        "plt.ylabel('Revenue in millions ($)')\n",
        "plt.show()\n",
        "\n",
        "max_dowSales = max(dow_sales['Sales'])\n",
        "best_dowSales =\"${:,.2f}\".format(max_dowSales)\n",
        "dowS = dow_sales[dow_sales['Sales'] == max_dowSales].index.item()\n",
        "dowSpercent = round(max_dowSales/total_rev*100, 2)\n",
        "\n",
        "print(dow[dowS] + ' @ ' + best_dowSales +\n",
        "      '\\n\\n% of Total Revenue: ' +  str(dowSpercent) + '%')"
      ],
      "execution_count": 182,
      "outputs": [
        {
          "output_type": "display_data",
          "data": {
            "image/png": "[encoded data removed]",
            "text/plain": [
              "<Figure size 432x288 with 1 Axes>"
            ]
          },
          "metadata": {
            "needs_background": "light"
          }
        },
        {
          "output_type": "stream",
          "name": "stdout",
          "text": [
            "Tuesday @ $5,087,956.78\n",
            "\n",
            "% of Total Revenue: 14.75%\n"
          ]
        }
      ]
    },
    {
      "cell_type": "markdown",
      "metadata": {
        "id": "fUgUghanmQ1J"
      },
      "source": [
        "##### **What were the 5 best days for sales?**"
      ]
    },
    {
      "cell_type": "code",
      "metadata": {
        "colab": {
          "base_uri": "https://localhost:8080/",
          "height": 206
        },
        "id": "ngkSxgX-a-B1",
        "outputId": "7a84da64-de37-470b-9f80-f1d856ee1872"
      },
      "source": [
        "Day_Sales = filtered_sdf.groupby(filtered_sdf['Order Date'].dt.date).sum()['Sales']\n",
        "Top_Five_DS = Day_Sales.sort_values(ascending=False).head().reset_index()\n",
        "Top_Five_DS"
      ],
      "execution_count": 183,
      "outputs": [
        {
          "output_type": "execute_result",
          "data": {
            "text/html": [
              "<div>\n",
              "<style scoped>\n",
              "    .dataframe tbody tr th:only-of-type {\n",
              "        vertical-align: middle;\n",
              "    }\n",
              "\n",
              "    .dataframe tbody tr th {\n",
              "        vertical-align: top;\n",
              "    }\n",
              "\n",
              "    .dataframe thead th {\n",
              "        text-align: right;\n",
              "    }\n",
              "</style>\n",
              "<table border=\"1\" class=\"dataframe\">\n",
              "  <thead>\n",
              "    <tr style=\"text-align: right;\">\n",
              "      <th></th>\n",
              "      <th>Order Date</th>\n",
              "      <th>Sales</th>\n",
              "    </tr>\n",
              "  </thead>\n",
              "  <tbody>\n",
              "    <tr>\n",
              "      <th>0</th>\n",
              "      <td>2019-12-04</td>\n",
              "      <td>166727.69</td>\n",
              "    </tr>\n",
              "    <tr>\n",
              "      <th>1</th>\n",
              "      <td>2019-12-16</td>\n",
              "      <td>162970.61</td>\n",
              "    </tr>\n",
              "    <tr>\n",
              "      <th>2</th>\n",
              "      <td>2019-12-10</td>\n",
              "      <td>162832.74</td>\n",
              "    </tr>\n",
              "    <tr>\n",
              "      <th>3</th>\n",
              "      <td>2019-12-20</td>\n",
              "      <td>160181.30</td>\n",
              "    </tr>\n",
              "    <tr>\n",
              "      <th>4</th>\n",
              "      <td>2019-12-17</td>\n",
              "      <td>157364.72</td>\n",
              "    </tr>\n",
              "  </tbody>\n",
              "</table>\n",
              "</div>"
            ],
            "text/plain": [
              "   Order Date     Sales\n",
              "0  2019-12-04 166727.69\n",
              "1  2019-12-16 162970.61\n",
              "2  2019-12-10 162832.74\n",
              "3  2019-12-20 160181.30\n",
              "4  2019-12-17 157364.72"
            ]
          },
          "metadata": {},
          "execution_count": 183
        }
      ]
    },
    {
      "cell_type": "markdown",
      "metadata": {
        "id": "CwPqv9h3f2wL"
      },
      "source": [
        "##### **What US City had the highest amount of revenue?**"
      ]
    },
    {
      "cell_type": "code",
      "metadata": {
        "id": "8ygR4070kF_B",
        "colab": {
          "base_uri": "https://localhost:8080/",
          "height": 410
        },
        "outputId": "20b7ab6f-a039-43ac-d07b-d702ac8eeaf3"
      },
      "source": [
        "city_sales = filtered_sdf.groupby('City').sum()\n",
        "cities = [city for city, df in filtered_sdf.groupby('City')]\n",
        "\n",
        "plt.bar(cities, city_sales['Sales'])\n",
        "plt.xticks(cities, rotation='vertical', size=8)\n",
        "plt.xlabel('City')\n",
        "plt.ylabel('Revenue in millions ($)')\n",
        "plt.show()\n",
        "\n",
        "max_citySales = max(city_sales['Sales'])\n",
        "best_citySales =\"${:,.2f}\".format(max_citySales)\n",
        "cityS = city_sales[city_sales['Sales'] == max_citySales].index.item()\n",
        "citySpercent = round(max_citySales/total_rev*100, 2)\n",
        "\n",
        "print(cityS + ' @ ' + best_citySales +\n",
        "      '\\n\\n% of Total Revenue: ' +  str(citySpercent) + '%')"
      ],
      "execution_count": 184,
      "outputs": [
        {
          "output_type": "display_data",
          "data": {
            "image/png": "[encoded data removed]",
            "text/plain": [
              "<Figure size 432x288 with 1 Axes>"
            ]
          },
          "metadata": {
            "needs_background": "light"
          }
        },
        {
          "output_type": "stream",
          "name": "stdout",
          "text": [
            " San Francisco (CA) @ $8,262,203.91\n",
            "\n",
            "% of Total Revenue: 23.95%\n"
          ]
        }
      ]
    },
    {
      "cell_type": "markdown",
      "metadata": {
        "id": "Wj9a0Awfmaue"
      },
      "source": [
        "##### **What US State had the highest amount of revenue?**"
      ]
    },
    {
      "cell_type": "code",
      "metadata": {
        "id": "L4XnfdA2mfLi",
        "colab": {
          "base_uri": "https://localhost:8080/",
          "height": 341
        },
        "outputId": "4aa9a918-a580-486a-d7fa-e1e14c39662b"
      },
      "source": [
        "state_sales = filtered_sdf.groupby('State').sum()\n",
        "states = [state for state, df in filtered_sdf.groupby('State')]\n",
        "\n",
        "plt.bar(states, state_sales['Sales'])\n",
        "plt.xticks(states, size=8)\n",
        "plt.xlabel('State')\n",
        "plt.ylabel('Revenue in 10 millions ($)')\n",
        "plt.show()\n",
        "\n",
        "max_stateSales = max(state_sales['Sales'])\n",
        "best_stateSales =\"${:,.2f}\".format(max_stateSales)\n",
        "stateS = state_sales[state_sales['Sales'] == max_stateSales].index.item()\n",
        "stateSpercent = round(max_stateSales/total_rev*100, 2)\n",
        "\n",
        "print(stateS + ' @ ' + best_stateSales +\n",
        "      '\\n\\n% of Total Revenue: ' +  str(stateSpercent) + '%')"
      ],
      "execution_count": 185,
      "outputs": [
        {
          "output_type": "display_data",
          "data": {
            "image/png": "[encoded data removed]",
            "text/plain": [
              "<Figure size 432x288 with 1 Axes>"
            ]
          },
          "metadata": {
            "needs_background": "light"
          }
        },
        {
          "output_type": "stream",
          "name": "stdout",
          "text": [
            "CA @ $13,714,774.71\n",
            "\n",
            "% of Total Revenue: 39.76%\n"
          ]
        }
      ]
    },
    {
      "cell_type": "markdown",
      "metadata": {
        "id": "UI21-utzrWmP"
      },
      "source": [
        "#### **Product Analysis**"
      ]
    },
    {
      "cell_type": "code",
      "metadata": {
        "id": "cLe6Cb-AKnv-"
      },
      "source": [
        "total_sales = filtered_sdf['Order ID'].count()"
      ],
      "execution_count": 186,
      "outputs": []
    },
    {
      "cell_type": "markdown",
      "metadata": {
        "id": "jAxObq3fKRvj"
      },
      "source": [
        "##### **Monthly Order Count**"
      ]
    },
    {
      "cell_type": "code",
      "metadata": {
        "colab": {
          "base_uri": "https://localhost:8080/",
          "height": 719
        },
        "id": "jrJckDh8KVt2",
        "outputId": "881727f1-6a09-471c-e4ec-c85848620512"
      },
      "source": [
        "month_count = filtered_sdf.groupby('Year/Month').count()['Order ID'][:-1]\n",
        "months = [month for month, df in filtered_sdf.groupby('Year/Month')][:-1]\n",
        "# dropped '2020-01' since incomplete\n",
        "\n",
        "plt.plot(months, month_count)\n",
        "plt.xticks(months, rotation=90)\n",
        "plt.xlabel('Month')\n",
        "plt.ylabel('# of Orders')\n",
        "plt.grid()\n",
        "plt.show()\n",
        "\n",
        "month_count.reset_index()"
      ],
      "execution_count": 187,
      "outputs": [
        {
          "output_type": "display_data",
          "data": {
            "image/png": "[encoded data removed]",
            "text/plain": [
              "<Figure size 432x288 with 1 Axes>"
            ]
          },
          "metadata": {
            "needs_background": "light"
          }
        },
        {
          "output_type": "execute_result",
          "data": {
            "text/html": [
              "<div>\n",
              "<style scoped>\n",
              "    .dataframe tbody tr th:only-of-type {\n",
              "        vertical-align: middle;\n",
              "    }\n",
              "\n",
              "    .dataframe tbody tr th {\n",
              "        vertical-align: top;\n",
              "    }\n",
              "\n",
              "    .dataframe thead th {\n",
              "        text-align: right;\n",
              "    }\n",
              "</style>\n",
              "<table border=\"1\" class=\"dataframe\">\n",
              "  <thead>\n",
              "    <tr style=\"text-align: right;\">\n",
              "      <th></th>\n",
              "      <th>Year/Month</th>\n",
              "      <th>Order ID</th>\n",
              "    </tr>\n",
              "  </thead>\n",
              "  <tbody>\n",
              "    <tr>\n",
              "      <th>0</th>\n",
              "      <td>2019-01</td>\n",
              "      <td>9675</td>\n",
              "    </tr>\n",
              "    <tr>\n",
              "      <th>1</th>\n",
              "      <td>2019-02</td>\n",
              "      <td>11975</td>\n",
              "    </tr>\n",
              "    <tr>\n",
              "      <th>2</th>\n",
              "      <td>2019-03</td>\n",
              "      <td>15153</td>\n",
              "    </tr>\n",
              "    <tr>\n",
              "      <th>3</th>\n",
              "      <td>2019-04</td>\n",
              "      <td>18279</td>\n",
              "    </tr>\n",
              "    <tr>\n",
              "      <th>4</th>\n",
              "      <td>2019-05</td>\n",
              "      <td>16566</td>\n",
              "    </tr>\n",
              "    <tr>\n",
              "      <th>5</th>\n",
              "      <td>2019-06</td>\n",
              "      <td>13554</td>\n",
              "    </tr>\n",
              "    <tr>\n",
              "      <th>6</th>\n",
              "      <td>2019-07</td>\n",
              "      <td>14293</td>\n",
              "    </tr>\n",
              "    <tr>\n",
              "      <th>7</th>\n",
              "      <td>2019-08</td>\n",
              "      <td>11961</td>\n",
              "    </tr>\n",
              "    <tr>\n",
              "      <th>8</th>\n",
              "      <td>2019-09</td>\n",
              "      <td>11621</td>\n",
              "    </tr>\n",
              "    <tr>\n",
              "      <th>9</th>\n",
              "      <td>2019-10</td>\n",
              "      <td>20282</td>\n",
              "    </tr>\n",
              "    <tr>\n",
              "      <th>10</th>\n",
              "      <td>2019-11</td>\n",
              "      <td>17573</td>\n",
              "    </tr>\n",
              "    <tr>\n",
              "      <th>11</th>\n",
              "      <td>2019-12</td>\n",
              "      <td>24984</td>\n",
              "    </tr>\n",
              "  </tbody>\n",
              "</table>\n",
              "</div>"
            ],
            "text/plain": [
              "   Year/Month  Order ID\n",
              "0     2019-01      9675\n",
              "1     2019-02     11975\n",
              "2     2019-03     15153\n",
              "3     2019-04     18279\n",
              "4     2019-05     16566\n",
              "5     2019-06     13554\n",
              "6     2019-07     14293\n",
              "7     2019-08     11961\n",
              "8     2019-09     11621\n",
              "9     2019-10     20282\n",
              "10    2019-11     17573\n",
              "11    2019-12     24984"
            ]
          },
          "metadata": {},
          "execution_count": 187
        }
      ]
    },
    {
      "cell_type": "markdown",
      "metadata": {
        "id": "HSBwUrH0f2-N"
      },
      "source": [
        "##### **What time should we display Ads to maximize likelihood of customer's buying products?**"
      ]
    },
    {
      "cell_type": "code",
      "metadata": {
        "id": "l3G32nDtvdrM",
        "colab": {
          "base_uri": "https://localhost:8080/",
          "height": 331
        },
        "outputId": "3df559b3-e83d-424c-a207-b7b9fc486fce"
      },
      "source": [
        "total_sales = filtered_sdf['Order ID'].count()\n",
        "hour_count = filtered_sdf.groupby('Hour').count()\n",
        "hours = [hour for hour, df in filtered_sdf.groupby('Hour')]\n",
        "\n",
        "plt.plot(hours, hour_count)\n",
        "plt.xticks(hours)\n",
        "plt.xlabel('Hour')\n",
        "plt.ylabel('# of Orders')\n",
        "plt.grid()\n",
        "plt.show()\n",
        "\n",
        "tophours = hour_count['Order ID'].sort_values(ascending=False).head(3).reset_index()\n",
        "tophour = tophours['Hour'][0]\n",
        "tophour_sales = hour_count.loc[hour_count.index == tophour, 'Order ID'].item()\n",
        "thSpercent = round(tophour_sales/total_sales*100, 2)\n",
        "\n",
        "print('Hour of the day with most orders: ' + str(tophour) + ' @ ' + str(tophour_sales) + ' orders' +\n",
        "      '\\n\\n% of Total Orders: ' +  str(thSpercent) + '%')"
      ],
      "execution_count": 188,
      "outputs": [
        {
          "output_type": "display_data",
          "data": {
            "image/png": "[encoded data removed]",
            "text/plain": [
              "<Figure size 432x288 with 1 Axes>"
            ]
          },
          "metadata": {
            "needs_background": "light"
          }
        },
        {
          "output_type": "stream",
          "name": "stdout",
          "text": [
            "Hour of the day with most orders: 19 @ 12905 orders\n",
            "\n",
            "% of Total Orders: 6.94%\n"
          ]
        }
      ]
    },
    {
      "cell_type": "markdown",
      "metadata": {
        "id": "NQJZlpEWf3B2"
      },
      "source": [
        "##### **What products are most often sold together? (Top 10)**"
      ]
    },
    {
      "cell_type": "code",
      "metadata": {
        "id": "OKl3cGzP891-"
      },
      "source": [
        "# Group products together by Order ID\n",
        "df2 = filtered_sdf[filtered_sdf['Order ID'].duplicated(keep=False)]\n",
        "df2['Grouped'] = df2.groupby('Order ID')['Product'].transform(lambda x: ','.join(x))\n",
        "df2 = df2[['Order ID', 'Grouped']].drop_duplicates()"
      ],
      "execution_count": null,
      "outputs": []
    },
    {
      "cell_type": "code",
      "metadata": {
        "id": "9HZGST5VuZxY",
        "colab": {
          "base_uri": "https://localhost:8080/",
          "height": 206
        },
        "outputId": "9ea78845-2159-400d-8269-270db9bf824c"
      },
      "source": [
        "# Use Counter() to find # of combinations (2)\n",
        "from itertools import combinations\n",
        "from  collections import Counter\n",
        "\n",
        "count = Counter()\n",
        "\n",
        "for row in df2['Grouped']:\n",
        "  row_list = row.split(',')\n",
        "  count.update(Counter(combinations(row_list, 2)))\n",
        "\n",
        "# Sort and create Grouped dataframe\n",
        "grouped = count.most_common()\n",
        "group_order = [str(i[0]) for i in grouped]\n",
        "group_order_num = [i[1] for i in grouped]\n",
        "grouped_df = pd.DataFrame(list(zip(group_order, group_order_num)), columns=['Grouped Orders', 'Order Count'])\n",
        "grouped_df.head()"
      ],
      "execution_count": 190,
      "outputs": [
        {
          "output_type": "execute_result",
          "data": {
            "text/html": [
              "<div>\n",
              "<style scoped>\n",
              "    .dataframe tbody tr th:only-of-type {\n",
              "        vertical-align: middle;\n",
              "    }\n",
              "\n",
              "    .dataframe tbody tr th {\n",
              "        vertical-align: top;\n",
              "    }\n",
              "\n",
              "    .dataframe thead th {\n",
              "        text-align: right;\n",
              "    }\n",
              "</style>\n",
              "<table border=\"1\" class=\"dataframe\">\n",
              "  <thead>\n",
              "    <tr style=\"text-align: right;\">\n",
              "      <th></th>\n",
              "      <th>Grouped Orders</th>\n",
              "      <th>Order Count</th>\n",
              "    </tr>\n",
              "  </thead>\n",
              "  <tbody>\n",
              "    <tr>\n",
              "      <th>0</th>\n",
              "      <td>('iPhone', 'Lightning Charging Cable')</td>\n",
              "      <td>1005</td>\n",
              "    </tr>\n",
              "    <tr>\n",
              "      <th>1</th>\n",
              "      <td>('Google Phone', 'USB-C Charging Cable')</td>\n",
              "      <td>987</td>\n",
              "    </tr>\n",
              "    <tr>\n",
              "      <th>2</th>\n",
              "      <td>('iPhone', 'Wired Headphones')</td>\n",
              "      <td>447</td>\n",
              "    </tr>\n",
              "    <tr>\n",
              "      <th>3</th>\n",
              "      <td>('Google Phone', 'Wired Headphones')</td>\n",
              "      <td>414</td>\n",
              "    </tr>\n",
              "    <tr>\n",
              "      <th>4</th>\n",
              "      <td>('Vareebadd Phone', 'USB-C Charging Cable')</td>\n",
              "      <td>361</td>\n",
              "    </tr>\n",
              "  </tbody>\n",
              "</table>\n",
              "</div>"
            ],
            "text/plain": [
              "                                Grouped Orders  Order Count\n",
              "0       ('iPhone', 'Lightning Charging Cable')         1005\n",
              "1     ('Google Phone', 'USB-C Charging Cable')          987\n",
              "2               ('iPhone', 'Wired Headphones')          447\n",
              "3         ('Google Phone', 'Wired Headphones')          414\n",
              "4  ('Vareebadd Phone', 'USB-C Charging Cable')          361"
            ]
          },
          "metadata": {},
          "execution_count": 190
        }
      ]
    },
    {
      "cell_type": "code",
      "metadata": {
        "colab": {
          "base_uri": "https://localhost:8080/",
          "height": 279
        },
        "id": "D5O4USNDxJ1J",
        "outputId": "48a99191-be42-47b2-d1c8-3fe3f410ea3b"
      },
      "source": [
        "# Display Top 10\n",
        "g_top10 = grouped_df['Grouped Orders'][:10]\n",
        "gc_top10 = grouped_df['Order Count'][:10]\n",
        "\n",
        "plt.barh(g_top10, gc_top10)\n",
        "plt.yticks(g_top10, size=8)\n",
        "plt.xlabel('# of Orders')\n",
        "plt.ylabel('Grouped Orders')\n",
        "plt.gca().invert_yaxis()\n",
        "plt.show()"
      ],
      "execution_count": 191,
      "outputs": [
        {
          "output_type": "display_data",
          "data": {
            "image/png": "[encoded data removed]",
            "text/plain": [
              "<Figure size 432x288 with 1 Axes>"
            ]
          },
          "metadata": {
            "needs_background": "light"
          }
        }
      ]
    },
    {
      "cell_type": "markdown",
      "metadata": {
        "id": "WZdjjjmyjyYJ"
      },
      "source": [
        "##### **What products sold the most? Why?**"
      ]
    },
    {
      "cell_type": "code",
      "metadata": {
        "id": "59Hyt9S6h-MV",
        "colab": {
          "base_uri": "https://localhost:8080/",
          "height": 409
        },
        "outputId": "8649f9aa-1076-4938-a4d0-e2ebae3c5eee"
      },
      "source": [
        "product_df = filtered_sdf.groupby('Product')\n",
        "quantity_ordered = product_df.sum()['Quantity Ordered']\n",
        "products = [product for product, df in product_df]\n",
        "prices = filtered_sdf.groupby('Product').mean()['Price Each']\n",
        "\n",
        "fig, ax1 = plt.subplots()\n",
        "\n",
        "ax2 = ax1.twinx()\n",
        "ax1.bar(products, quantity_ordered, color='c')\n",
        "ax2.plot(products, prices, color= 'g')\n",
        "\n",
        "ax1.set_xlabel('Product Name')\n",
        "ax1.set_ylabel('# of Orders', color='c')\n",
        "ax2.set_ylabel('Price ($)', color='g')\n",
        "ax1.set_xticklabels(products, rotation='vertical', size=8)\n",
        "\n",
        "plt.show()\n",
        "\n",
        "print('Lower prices -> higher quantity ordered')"
      ],
      "execution_count": 192,
      "outputs": [
        {
          "output_type": "display_data",
          "data": {
            "image/png": "[encoded data removed]",
            "text/plain": [
              "<Figure size 432x288 with 2 Axes>"
            ]
          },
          "metadata": {
            "needs_background": "light"
          }
        },
        {
          "output_type": "stream",
          "name": "stdout",
          "text": [
            "Lower prices -> higher quantity ordered\n"
          ]
        }
      ]
    },
    {
      "cell_type": "markdown",
      "metadata": {
        "id": "kvE7woLlNmdL"
      },
      "source": [
        "#### **State Analysis**"
      ]
    },
    {
      "cell_type": "markdown",
      "metadata": {
        "id": "nZPtjGnkSzze"
      },
      "source": [
        "##### **What is the average spend per order by State?**"
      ]
    },
    {
      "cell_type": "code",
      "metadata": {
        "colab": {
          "base_uri": "https://localhost:8080/",
          "height": 279
        },
        "id": "-bhhrhtTz_3m",
        "outputId": "01c05f66-44ab-4a1f-f256-8be3f33a7745"
      },
      "source": [
        "state_spend_df = filtered_sdf.groupby('State')\n",
        "avg_state_spend = state_spend_df.mean()['Sales']\n",
        "states = [state for state, df in state_spend_df]\n",
        "\n",
        "plt.bar(states, avg_state_spend)\n",
        "plt.ylim(min(avg_state_spend)-10, max(avg_state_spend)+10)\n",
        "plt.xticks(states)\n",
        "plt.xlabel('State')\n",
        "plt.ylabel('Avg Spend per Order ($)')\n",
        "plt.show()"
      ],
      "execution_count": 193,
      "outputs": [
        {
          "output_type": "display_data",
          "data": {
            "image/png": "[encoded data removed]",
            "text/plain": [
              "<Figure size 432x288 with 1 Axes>"
            ]
          },
          "metadata": {
            "needs_background": "light"
          }
        }
      ]
    },
    {
      "cell_type": "code",
      "metadata": {
        "colab": {
          "base_uri": "https://localhost:8080/",
          "height": 331
        },
        "id": "CPJBD5jRCumS",
        "outputId": "9bef43bc-fd96-4e9f-cb3c-4c3fbce216f2"
      },
      "source": [
        "df_avg_state_spend = filtered_sdf.groupby('State').agg({'Order ID':'count', 'Sales':'mean'}).sort_values('Sales', ascending=False)\n",
        "df_avg_state_spend = df_avg_state_spend.rename(columns={'Order ID': 'Order Count', 'Sales': 'Avg Spend'})\n",
        "df_avg_state_spend"
      ],
      "execution_count": 194,
      "outputs": [
        {
          "output_type": "execute_result",
          "data": {
            "text/html": [
              "<div>\n",
              "<style scoped>\n",
              "    .dataframe tbody tr th:only-of-type {\n",
              "        vertical-align: middle;\n",
              "    }\n",
              "\n",
              "    .dataframe tbody tr th {\n",
              "        vertical-align: top;\n",
              "    }\n",
              "\n",
              "    .dataframe thead th {\n",
              "        text-align: right;\n",
              "    }\n",
              "</style>\n",
              "<table border=\"1\" class=\"dataframe\">\n",
              "  <thead>\n",
              "    <tr style=\"text-align: right;\">\n",
              "      <th></th>\n",
              "      <th>Order Count</th>\n",
              "      <th>Avg Spend</th>\n",
              "    </tr>\n",
              "    <tr>\n",
              "      <th>State</th>\n",
              "      <th></th>\n",
              "      <th></th>\n",
              "    </tr>\n",
              "  </thead>\n",
              "  <tbody>\n",
              "    <tr>\n",
              "      <th>GA</th>\n",
              "      <td>14881</td>\n",
              "      <td>187.86</td>\n",
              "    </tr>\n",
              "    <tr>\n",
              "      <th>NY</th>\n",
              "      <td>24876</td>\n",
              "      <td>187.50</td>\n",
              "    </tr>\n",
              "    <tr>\n",
              "      <th>OR</th>\n",
              "      <td>10010</td>\n",
              "      <td>186.89</td>\n",
              "    </tr>\n",
              "    <tr>\n",
              "      <th>WA</th>\n",
              "      <td>14732</td>\n",
              "      <td>186.52</td>\n",
              "    </tr>\n",
              "    <tr>\n",
              "      <th>TX</th>\n",
              "      <td>24725</td>\n",
              "      <td>185.54</td>\n",
              "    </tr>\n",
              "    <tr>\n",
              "      <th>CA</th>\n",
              "      <td>74337</td>\n",
              "      <td>184.49</td>\n",
              "    </tr>\n",
              "    <tr>\n",
              "      <th>MA</th>\n",
              "      <td>19934</td>\n",
              "      <td>183.69</td>\n",
              "    </tr>\n",
              "    <tr>\n",
              "      <th>ME</th>\n",
              "      <td>2455</td>\n",
              "      <td>183.20</td>\n",
              "    </tr>\n",
              "  </tbody>\n",
              "</table>\n",
              "</div>"
            ],
            "text/plain": [
              "       Order Count  Avg Spend\n",
              "State                        \n",
              "GA           14881     187.86\n",
              "NY           24876     187.50\n",
              "OR           10010     186.89\n",
              "WA           14732     186.52\n",
              "TX           24725     185.54\n",
              "CA           74337     184.49\n",
              "MA           19934     183.69\n",
              "ME            2455     183.20"
            ]
          },
          "metadata": {},
          "execution_count": 194
        }
      ]
    },
    {
      "cell_type": "markdown",
      "metadata": {
        "id": "zVeNepcmSzX-"
      },
      "source": [
        "##### **What is the #1 selling product sold per State?**"
      ]
    },
    {
      "cell_type": "code",
      "metadata": {
        "colab": {
          "base_uri": "https://localhost:8080/",
          "height": 300
        },
        "id": "kbOC13xtxiIc",
        "outputId": "14be3bf6-2287-49e1-af3a-2e7d711de5c5"
      },
      "source": [
        "products_state = filtered_sdf.groupby(['State','Product'])['Quantity Ordered'].count().reset_index()\n",
        "products_state['Rank'] = products_state.groupby('State')['Quantity Ordered'].rank(\"dense\", ascending=False).astype(int)\n",
        "top_products_state = products_state.loc[products_state['Rank'] == 1, :].sort_values('Quantity Ordered', ascending=False)\n",
        "\n",
        "top_products_state"
      ],
      "execution_count": 195,
      "outputs": [
        {
          "output_type": "execute_result",
          "data": {
            "text/html": [
              "<div>\n",
              "<style scoped>\n",
              "    .dataframe tbody tr th:only-of-type {\n",
              "        vertical-align: middle;\n",
              "    }\n",
              "\n",
              "    .dataframe tbody tr th {\n",
              "        vertical-align: top;\n",
              "    }\n",
              "\n",
              "    .dataframe thead th {\n",
              "        text-align: right;\n",
              "    }\n",
              "</style>\n",
              "<table border=\"1\" class=\"dataframe\">\n",
              "  <thead>\n",
              "    <tr style=\"text-align: right;\">\n",
              "      <th></th>\n",
              "      <th>State</th>\n",
              "      <th>Product</th>\n",
              "      <th>Quantity Ordered</th>\n",
              "      <th>Rank</th>\n",
              "    </tr>\n",
              "  </thead>\n",
              "  <tbody>\n",
              "    <tr>\n",
              "      <th>15</th>\n",
              "      <td>CA</td>\n",
              "      <td>USB-C Charging Cable</td>\n",
              "      <td>8822</td>\n",
              "      <td>1</td>\n",
              "    </tr>\n",
              "    <tr>\n",
              "      <th>91</th>\n",
              "      <td>NY</td>\n",
              "      <td>USB-C Charging Cable</td>\n",
              "      <td>2978</td>\n",
              "      <td>1</td>\n",
              "    </tr>\n",
              "    <tr>\n",
              "      <th>126</th>\n",
              "      <td>TX</td>\n",
              "      <td>Lightning Charging Cable</td>\n",
              "      <td>2947</td>\n",
              "      <td>1</td>\n",
              "    </tr>\n",
              "    <tr>\n",
              "      <th>53</th>\n",
              "      <td>MA</td>\n",
              "      <td>USB-C Charging Cable</td>\n",
              "      <td>2333</td>\n",
              "      <td>1</td>\n",
              "    </tr>\n",
              "    <tr>\n",
              "      <th>34</th>\n",
              "      <td>GA</td>\n",
              "      <td>USB-C Charging Cable</td>\n",
              "      <td>1773</td>\n",
              "      <td>1</td>\n",
              "    </tr>\n",
              "    <tr>\n",
              "      <th>148</th>\n",
              "      <td>WA</td>\n",
              "      <td>USB-C Charging Cable</td>\n",
              "      <td>1704</td>\n",
              "      <td>1</td>\n",
              "    </tr>\n",
              "    <tr>\n",
              "      <th>107</th>\n",
              "      <td>OR</td>\n",
              "      <td>Lightning Charging Cable</td>\n",
              "      <td>1179</td>\n",
              "      <td>1</td>\n",
              "    </tr>\n",
              "    <tr>\n",
              "      <th>72</th>\n",
              "      <td>ME</td>\n",
              "      <td>USB-C Charging Cable</td>\n",
              "      <td>311</td>\n",
              "      <td>1</td>\n",
              "    </tr>\n",
              "  </tbody>\n",
              "</table>\n",
              "</div>"
            ],
            "text/plain": [
              "    State                   Product  Quantity Ordered  Rank\n",
              "15     CA      USB-C Charging Cable              8822     1\n",
              "91     NY      USB-C Charging Cable              2978     1\n",
              "126    TX  Lightning Charging Cable              2947     1\n",
              "53     MA      USB-C Charging Cable              2333     1\n",
              "34     GA      USB-C Charging Cable              1773     1\n",
              "148    WA      USB-C Charging Cable              1704     1\n",
              "107    OR  Lightning Charging Cable              1179     1\n",
              "72     ME      USB-C Charging Cable               311     1"
            ]
          },
          "metadata": {},
          "execution_count": 195
        }
      ]
    },
    {
      "cell_type": "markdown",
      "metadata": {
        "id": "9BSXeSYCHsCt"
      },
      "source": [
        "##### **Which product(s) generated the most revenue per State?**"
      ]
    },
    {
      "cell_type": "code",
      "metadata": {
        "colab": {
          "base_uri": "https://localhost:8080/",
          "height": 300
        },
        "id": "LiXgd-ppLwBr",
        "outputId": "b6612e13-b9ee-4d0d-9a0f-16cd2c33f078"
      },
      "source": [
        "ps_state = filtered_sdf.groupby(['State','Product'])['Sales'].sum().reset_index()\n",
        "ps_state['Rank'] = ps_state.groupby('State')['Sales'].rank(\"dense\", ascending=False).astype(int)\n",
        "tps_state = ps_state.loc[ps_state['Rank'] == 1, :].sort_values(['State','Sales'], ascending=[True,False])\n",
        "\n",
        "tps_state"
      ],
      "execution_count": 196,
      "outputs": [
        {
          "output_type": "execute_result",
          "data": {
            "text/html": [
              "<div>\n",
              "<style scoped>\n",
              "    .dataframe tbody tr th:only-of-type {\n",
              "        vertical-align: middle;\n",
              "    }\n",
              "\n",
              "    .dataframe tbody tr th {\n",
              "        vertical-align: top;\n",
              "    }\n",
              "\n",
              "    .dataframe thead th {\n",
              "        text-align: right;\n",
              "    }\n",
              "</style>\n",
              "<table border=\"1\" class=\"dataframe\">\n",
              "  <thead>\n",
              "    <tr style=\"text-align: right;\">\n",
              "      <th></th>\n",
              "      <th>State</th>\n",
              "      <th>Product</th>\n",
              "      <th>Sales</th>\n",
              "      <th>Rank</th>\n",
              "    </tr>\n",
              "  </thead>\n",
              "  <tbody>\n",
              "    <tr>\n",
              "      <th>13</th>\n",
              "      <td>CA</td>\n",
              "      <td>Macbook Pro Laptop</td>\n",
              "      <td>3207900.00</td>\n",
              "      <td>1</td>\n",
              "    </tr>\n",
              "    <tr>\n",
              "      <th>32</th>\n",
              "      <td>GA</td>\n",
              "      <td>Macbook Pro Laptop</td>\n",
              "      <td>644300.00</td>\n",
              "      <td>1</td>\n",
              "    </tr>\n",
              "    <tr>\n",
              "      <th>51</th>\n",
              "      <td>MA</td>\n",
              "      <td>Macbook Pro Laptop</td>\n",
              "      <td>814300.00</td>\n",
              "      <td>1</td>\n",
              "    </tr>\n",
              "    <tr>\n",
              "      <th>70</th>\n",
              "      <td>ME</td>\n",
              "      <td>Macbook Pro Laptop</td>\n",
              "      <td>107100.00</td>\n",
              "      <td>1</td>\n",
              "    </tr>\n",
              "    <tr>\n",
              "      <th>89</th>\n",
              "      <td>NY</td>\n",
              "      <td>Macbook Pro Laptop</td>\n",
              "      <td>1116900.00</td>\n",
              "      <td>1</td>\n",
              "    </tr>\n",
              "    <tr>\n",
              "      <th>108</th>\n",
              "      <td>OR</td>\n",
              "      <td>Macbook Pro Laptop</td>\n",
              "      <td>465800.00</td>\n",
              "      <td>1</td>\n",
              "    </tr>\n",
              "    <tr>\n",
              "      <th>127</th>\n",
              "      <td>TX</td>\n",
              "      <td>Macbook Pro Laptop</td>\n",
              "      <td>1076100.00</td>\n",
              "      <td>1</td>\n",
              "    </tr>\n",
              "    <tr>\n",
              "      <th>146</th>\n",
              "      <td>WA</td>\n",
              "      <td>Macbook Pro Laptop</td>\n",
              "      <td>605200.00</td>\n",
              "      <td>1</td>\n",
              "    </tr>\n",
              "  </tbody>\n",
              "</table>\n",
              "</div>"
            ],
            "text/plain": [
              "    State             Product      Sales  Rank\n",
              "13     CA  Macbook Pro Laptop 3207900.00     1\n",
              "32     GA  Macbook Pro Laptop  644300.00     1\n",
              "51     MA  Macbook Pro Laptop  814300.00     1\n",
              "70     ME  Macbook Pro Laptop  107100.00     1\n",
              "89     NY  Macbook Pro Laptop 1116900.00     1\n",
              "108    OR  Macbook Pro Laptop  465800.00     1\n",
              "127    TX  Macbook Pro Laptop 1076100.00     1\n",
              "146    WA  Macbook Pro Laptop  605200.00     1"
            ]
          },
          "metadata": {},
          "execution_count": 196
        }
      ]
    },
    {
      "cell_type": "markdown",
      "metadata": {
        "id": "nnOKUaBVSzev"
      },
      "source": [
        "#### **Region Analysis**"
      ]
    },
    {
      "cell_type": "code",
      "metadata": {
        "id": "TL-Ja4bY0Ld0"
      },
      "source": [
        "wc = ['CA', 'OR', 'WA']\n",
        "cen = ['TX']\n",
        "ec = ['GA', 'MA', 'ME', 'NY']\n",
        "\n",
        "def region(x):\n",
        "  if x['State'] in wc:\n",
        "    reg = 'West Coast'\n",
        "  elif x['State'] in cen:\n",
        "    reg = 'Central'\n",
        "  elif x['State'] in ec:\n",
        "    reg = 'East Coast'\n",
        "  return reg\n",
        "\n",
        "filtered_sdf['Region'] = filtered_sdf.apply(region, axis=1)"
      ],
      "execution_count": 197,
      "outputs": []
    },
    {
      "cell_type": "markdown",
      "metadata": {
        "id": "CYYSnAxHTPa9"
      },
      "source": [
        "##### **Average Spend per Order by Region?**"
      ]
    },
    {
      "cell_type": "code",
      "metadata": {
        "colab": {
          "base_uri": "https://localhost:8080/",
          "height": 405
        },
        "id": "mGMfbIlkDzIb",
        "outputId": "cbb72c6f-ca1f-409e-ad76-a25279b44c48"
      },
      "source": [
        "region_spend_df = filtered_sdf.groupby('Region')\n",
        "avg_region_spend = region_spend_df.mean()['Sales']\n",
        "regions = [region for region, df in region_spend_df]\n",
        "\n",
        "plt.bar(regions, avg_region_spend)\n",
        "plt.ylim(min(avg_state_spend)-1, max(avg_state_spend)+1)\n",
        "plt.xticks(regions)\n",
        "plt.xlabel('Region')\n",
        "plt.ylabel('Avg Spend per Order ($)')\n",
        "plt.show()\n",
        "\n",
        "avg_region_spend.reset_index().sort_values('Sales', ascending=False)"
      ],
      "execution_count": 198,
      "outputs": [
        {
          "output_type": "display_data",
          "data": {
            "image/png": "[encoded data removed]",
            "text/plain": [
              "<Figure size 432x288 with 1 Axes>"
            ]
          },
          "metadata": {
            "needs_background": "light"
          }
        },
        {
          "output_type": "execute_result",
          "data": {
            "text/html": [
              "<div>\n",
              "<style scoped>\n",
              "    .dataframe tbody tr th:only-of-type {\n",
              "        vertical-align: middle;\n",
              "    }\n",
              "\n",
              "    .dataframe tbody tr th {\n",
              "        vertical-align: top;\n",
              "    }\n",
              "\n",
              "    .dataframe thead th {\n",
              "        text-align: right;\n",
              "    }\n",
              "</style>\n",
              "<table border=\"1\" class=\"dataframe\">\n",
              "  <thead>\n",
              "    <tr style=\"text-align: right;\">\n",
              "      <th></th>\n",
              "      <th>Region</th>\n",
              "      <th>Sales</th>\n",
              "    </tr>\n",
              "  </thead>\n",
              "  <tbody>\n",
              "    <tr>\n",
              "      <th>1</th>\n",
              "      <td>East Coast</td>\n",
              "      <td>186.19</td>\n",
              "    </tr>\n",
              "    <tr>\n",
              "      <th>0</th>\n",
              "      <td>Central</td>\n",
              "      <td>185.54</td>\n",
              "    </tr>\n",
              "    <tr>\n",
              "      <th>2</th>\n",
              "      <td>West Coast</td>\n",
              "      <td>185.04</td>\n",
              "    </tr>\n",
              "  </tbody>\n",
              "</table>\n",
              "</div>"
            ],
            "text/plain": [
              "       Region  Sales\n",
              "1  East Coast 186.19\n",
              "0     Central 185.54\n",
              "2  West Coast 185.04"
            ]
          },
          "metadata": {},
          "execution_count": 198
        }
      ]
    },
    {
      "cell_type": "markdown",
      "metadata": {
        "id": "sXIXx7AZTP_V"
      },
      "source": [
        "##### **What are the Top 5 selling product sold per Region?**\n"
      ]
    },
    {
      "cell_type": "code",
      "metadata": {
        "id": "gG0JE9YlNO7B"
      },
      "source": [
        "top5 = list(range(1,6))"
      ],
      "execution_count": 199,
      "outputs": []
    },
    {
      "cell_type": "code",
      "metadata": {
        "colab": {
          "base_uri": "https://localhost:8080/",
          "height": 519
        },
        "id": "9rZAFeWdFm0_",
        "outputId": "33dbf6fa-e881-4bc2-ce21-3545f94c3749"
      },
      "source": [
        "products_region = filtered_sdf.groupby(['Region','Product'])['Quantity Ordered'].count().reset_index()\n",
        "products_region['Rank'] = products_region.groupby('Region')['Quantity Ordered'].rank(\"dense\", ascending=False).astype(int)\n",
        "top_products_region = products_region.loc[products_region['Rank'].isin(top5), :].sort_values(['Region','Quantity Ordered'], ascending=[True,False])\n",
        "\n",
        "top_products_region"
      ],
      "execution_count": 200,
      "outputs": [
        {
          "output_type": "execute_result",
          "data": {
            "text/html": [
              "<div>\n",
              "<style scoped>\n",
              "    .dataframe tbody tr th:only-of-type {\n",
              "        vertical-align: middle;\n",
              "    }\n",
              "\n",
              "    .dataframe tbody tr th {\n",
              "        vertical-align: top;\n",
              "    }\n",
              "\n",
              "    .dataframe thead th {\n",
              "        text-align: right;\n",
              "    }\n",
              "</style>\n",
              "<table border=\"1\" class=\"dataframe\">\n",
              "  <thead>\n",
              "    <tr style=\"text-align: right;\">\n",
              "      <th></th>\n",
              "      <th>Region</th>\n",
              "      <th>Product</th>\n",
              "      <th>Quantity Ordered</th>\n",
              "      <th>Rank</th>\n",
              "    </tr>\n",
              "  </thead>\n",
              "  <tbody>\n",
              "    <tr>\n",
              "      <th>12</th>\n",
              "      <td>Central</td>\n",
              "      <td>Lightning Charging Cable</td>\n",
              "      <td>2947</td>\n",
              "      <td>1</td>\n",
              "    </tr>\n",
              "    <tr>\n",
              "      <th>15</th>\n",
              "      <td>Central</td>\n",
              "      <td>USB-C Charging Cable</td>\n",
              "      <td>2835</td>\n",
              "      <td>2</td>\n",
              "    </tr>\n",
              "    <tr>\n",
              "      <th>4</th>\n",
              "      <td>Central</td>\n",
              "      <td>AA Batteries (4-pack)</td>\n",
              "      <td>2764</td>\n",
              "      <td>3</td>\n",
              "    </tr>\n",
              "    <tr>\n",
              "      <th>5</th>\n",
              "      <td>Central</td>\n",
              "      <td>AAA Batteries (4-pack)</td>\n",
              "      <td>2741</td>\n",
              "      <td>4</td>\n",
              "    </tr>\n",
              "    <tr>\n",
              "      <th>17</th>\n",
              "      <td>Central</td>\n",
              "      <td>Wired Headphones</td>\n",
              "      <td>2538</td>\n",
              "      <td>5</td>\n",
              "    </tr>\n",
              "    <tr>\n",
              "      <th>34</th>\n",
              "      <td>East Coast</td>\n",
              "      <td>USB-C Charging Cable</td>\n",
              "      <td>7395</td>\n",
              "      <td>1</td>\n",
              "    </tr>\n",
              "    <tr>\n",
              "      <th>31</th>\n",
              "      <td>East Coast</td>\n",
              "      <td>Lightning Charging Cable</td>\n",
              "      <td>7194</td>\n",
              "      <td>2</td>\n",
              "    </tr>\n",
              "    <tr>\n",
              "      <th>24</th>\n",
              "      <td>East Coast</td>\n",
              "      <td>AAA Batteries (4-pack)</td>\n",
              "      <td>6909</td>\n",
              "      <td>3</td>\n",
              "    </tr>\n",
              "    <tr>\n",
              "      <th>23</th>\n",
              "      <td>East Coast</td>\n",
              "      <td>AA Batteries (4-pack)</td>\n",
              "      <td>6844</td>\n",
              "      <td>4</td>\n",
              "    </tr>\n",
              "    <tr>\n",
              "      <th>36</th>\n",
              "      <td>East Coast</td>\n",
              "      <td>Wired Headphones</td>\n",
              "      <td>6210</td>\n",
              "      <td>5</td>\n",
              "    </tr>\n",
              "    <tr>\n",
              "      <th>53</th>\n",
              "      <td>West Coast</td>\n",
              "      <td>USB-C Charging Cable</td>\n",
              "      <td>11673</td>\n",
              "      <td>1</td>\n",
              "    </tr>\n",
              "    <tr>\n",
              "      <th>50</th>\n",
              "      <td>West Coast</td>\n",
              "      <td>Lightning Charging Cable</td>\n",
              "      <td>11517</td>\n",
              "      <td>2</td>\n",
              "    </tr>\n",
              "    <tr>\n",
              "      <th>43</th>\n",
              "      <td>West Coast</td>\n",
              "      <td>AAA Batteries (4-pack)</td>\n",
              "      <td>10991</td>\n",
              "      <td>3</td>\n",
              "    </tr>\n",
              "    <tr>\n",
              "      <th>42</th>\n",
              "      <td>West Coast</td>\n",
              "      <td>AA Batteries (4-pack)</td>\n",
              "      <td>10969</td>\n",
              "      <td>4</td>\n",
              "    </tr>\n",
              "    <tr>\n",
              "      <th>55</th>\n",
              "      <td>West Coast</td>\n",
              "      <td>Wired Headphones</td>\n",
              "      <td>10134</td>\n",
              "      <td>5</td>\n",
              "    </tr>\n",
              "  </tbody>\n",
              "</table>\n",
              "</div>"
            ],
            "text/plain": [
              "        Region                   Product  Quantity Ordered  Rank\n",
              "12     Central  Lightning Charging Cable              2947     1\n",
              "15     Central      USB-C Charging Cable              2835     2\n",
              "4      Central     AA Batteries (4-pack)              2764     3\n",
              "5      Central    AAA Batteries (4-pack)              2741     4\n",
              "17     Central          Wired Headphones              2538     5\n",
              "34  East Coast      USB-C Charging Cable              7395     1\n",
              "31  East Coast  Lightning Charging Cable              7194     2\n",
              "24  East Coast    AAA Batteries (4-pack)              6909     3\n",
              "23  East Coast     AA Batteries (4-pack)              6844     4\n",
              "36  East Coast          Wired Headphones              6210     5\n",
              "53  West Coast      USB-C Charging Cable             11673     1\n",
              "50  West Coast  Lightning Charging Cable             11517     2\n",
              "43  West Coast    AAA Batteries (4-pack)             10991     3\n",
              "42  West Coast     AA Batteries (4-pack)             10969     4\n",
              "55  West Coast          Wired Headphones             10134     5"
            ]
          },
          "metadata": {},
          "execution_count": 200
        }
      ]
    },
    {
      "cell_type": "markdown",
      "metadata": {
        "id": "Isuu2n_rTQH9"
      },
      "source": [
        "##### **What products generated the most revenue per Region? (Top 5)**"
      ]
    },
    {
      "cell_type": "code",
      "metadata": {
        "id": "MHaI_GGXTLqc",
        "colab": {
          "base_uri": "https://localhost:8080/",
          "height": 519
        },
        "outputId": "00210f5d-44a8-4932-f690-f3528192f0e9"
      },
      "source": [
        "ps_region = filtered_sdf.groupby(['Region','Product'])['Sales'].sum().reset_index()\n",
        "ps_region['Rank'] = ps_region.groupby('Region')['Sales'].rank(\"dense\", ascending=False).astype(int)\n",
        "tps_region = ps_region.loc[ps_region['Rank'].isin(top5), :].sort_values(['Region','Sales'], ascending=[True,False])\n",
        "\n",
        "tps_region"
      ],
      "execution_count": 201,
      "outputs": [
        {
          "output_type": "execute_result",
          "data": {
            "text/html": [
              "<div>\n",
              "<style scoped>\n",
              "    .dataframe tbody tr th:only-of-type {\n",
              "        vertical-align: middle;\n",
              "    }\n",
              "\n",
              "    .dataframe tbody tr th {\n",
              "        vertical-align: top;\n",
              "    }\n",
              "\n",
              "    .dataframe thead th {\n",
              "        text-align: right;\n",
              "    }\n",
              "</style>\n",
              "<table border=\"1\" class=\"dataframe\">\n",
              "  <thead>\n",
              "    <tr style=\"text-align: right;\">\n",
              "      <th></th>\n",
              "      <th>Region</th>\n",
              "      <th>Product</th>\n",
              "      <th>Sales</th>\n",
              "      <th>Rank</th>\n",
              "    </tr>\n",
              "  </thead>\n",
              "  <tbody>\n",
              "    <tr>\n",
              "      <th>13</th>\n",
              "      <td>Central</td>\n",
              "      <td>Macbook Pro Laptop</td>\n",
              "      <td>1076100.00</td>\n",
              "      <td>1</td>\n",
              "    </tr>\n",
              "    <tr>\n",
              "      <th>18</th>\n",
              "      <td>Central</td>\n",
              "      <td>iPhone</td>\n",
              "      <td>627200.00</td>\n",
              "      <td>2</td>\n",
              "    </tr>\n",
              "    <tr>\n",
              "      <th>14</th>\n",
              "      <td>Central</td>\n",
              "      <td>ThinkPad Laptop</td>\n",
              "      <td>554994.45</td>\n",
              "      <td>3</td>\n",
              "    </tr>\n",
              "    <tr>\n",
              "      <th>9</th>\n",
              "      <td>Central</td>\n",
              "      <td>Google Phone</td>\n",
              "      <td>441000.00</td>\n",
              "      <td>4</td>\n",
              "    </tr>\n",
              "    <tr>\n",
              "      <th>3</th>\n",
              "      <td>Central</td>\n",
              "      <td>34in Ultrawide Monitor</td>\n",
              "      <td>319191.60</td>\n",
              "      <td>5</td>\n",
              "    </tr>\n",
              "    <tr>\n",
              "      <th>32</th>\n",
              "      <td>East Coast</td>\n",
              "      <td>Macbook Pro Laptop</td>\n",
              "      <td>2682600.00</td>\n",
              "      <td>1</td>\n",
              "    </tr>\n",
              "    <tr>\n",
              "      <th>37</th>\n",
              "      <td>East Coast</td>\n",
              "      <td>iPhone</td>\n",
              "      <td>1579900.00</td>\n",
              "      <td>2</td>\n",
              "    </tr>\n",
              "    <tr>\n",
              "      <th>33</th>\n",
              "      <td>East Coast</td>\n",
              "      <td>ThinkPad Laptop</td>\n",
              "      <td>1416985.83</td>\n",
              "      <td>3</td>\n",
              "    </tr>\n",
              "    <tr>\n",
              "      <th>28</th>\n",
              "      <td>East Coast</td>\n",
              "      <td>Google Phone</td>\n",
              "      <td>1127400.00</td>\n",
              "      <td>4</td>\n",
              "    </tr>\n",
              "    <tr>\n",
              "      <th>20</th>\n",
              "      <td>East Coast</td>\n",
              "      <td>27in 4K Gaming Monitor</td>\n",
              "      <td>817029.05</td>\n",
              "      <td>5</td>\n",
              "    </tr>\n",
              "    <tr>\n",
              "      <th>51</th>\n",
              "      <td>West Coast</td>\n",
              "      <td>Macbook Pro Laptop</td>\n",
              "      <td>4278900.00</td>\n",
              "      <td>1</td>\n",
              "    </tr>\n",
              "    <tr>\n",
              "      <th>56</th>\n",
              "      <td>West Coast</td>\n",
              "      <td>iPhone</td>\n",
              "      <td>2587200.00</td>\n",
              "      <td>2</td>\n",
              "    </tr>\n",
              "    <tr>\n",
              "      <th>52</th>\n",
              "      <td>West Coast</td>\n",
              "      <td>ThinkPad Laptop</td>\n",
              "      <td>2157978.42</td>\n",
              "      <td>3</td>\n",
              "    </tr>\n",
              "    <tr>\n",
              "      <th>47</th>\n",
              "      <td>West Coast</td>\n",
              "      <td>Google Phone</td>\n",
              "      <td>1750800.00</td>\n",
              "      <td>4</td>\n",
              "    </tr>\n",
              "    <tr>\n",
              "      <th>39</th>\n",
              "      <td>West Coast</td>\n",
              "      <td>27in 4K Gaming Monitor</td>\n",
              "      <td>1306466.50</td>\n",
              "      <td>5</td>\n",
              "    </tr>\n",
              "  </tbody>\n",
              "</table>\n",
              "</div>"
            ],
            "text/plain": [
              "        Region                 Product      Sales  Rank\n",
              "13     Central      Macbook Pro Laptop 1076100.00     1\n",
              "18     Central                  iPhone  627200.00     2\n",
              "14     Central         ThinkPad Laptop  554994.45     3\n",
              "9      Central            Google Phone  441000.00     4\n",
              "3      Central  34in Ultrawide Monitor  319191.60     5\n",
              "32  East Coast      Macbook Pro Laptop 2682600.00     1\n",
              "37  East Coast                  iPhone 1579900.00     2\n",
              "33  East Coast         ThinkPad Laptop 1416985.83     3\n",
              "28  East Coast            Google Phone 1127400.00     4\n",
              "20  East Coast  27in 4K Gaming Monitor  817029.05     5\n",
              "51  West Coast      Macbook Pro Laptop 4278900.00     1\n",
              "56  West Coast                  iPhone 2587200.00     2\n",
              "52  West Coast         ThinkPad Laptop 2157978.42     3\n",
              "47  West Coast            Google Phone 1750800.00     4\n",
              "39  West Coast  27in 4K Gaming Monitor 1306466.50     5"
            ]
          },
          "metadata": {},
          "execution_count": 201
        }
      ]
    }
  ]
}